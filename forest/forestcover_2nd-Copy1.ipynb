{
 "cells": [
  {
   "cell_type": "markdown",
   "metadata": {},
   "source": [
    "# Forest Cover Type Prediction"
   ]
  },
  {
   "cell_type": "code",
   "execution_count": 1,
   "metadata": {},
   "outputs": [
    {
     "name": "stderr",
     "output_type": "stream",
     "text": [
      "/Library/Frameworks/Python.framework/Versions/3.6/lib/python3.6/site-packages/sklearn/cross_validation.py:44: DeprecationWarning: This module was deprecated in version 0.18 in favor of the model_selection module into which all the refactored classes and functions are moved. Also note that the interface of the new CV iterators are different from that of this module. This module will be removed in 0.20.\n",
      "  \"This module will be removed in 0.20.\", DeprecationWarning)\n"
     ]
    }
   ],
   "source": [
    "# Load libraries\n",
    "import pandas as pd\n",
    "import numpy as np\n",
    "import re\n",
    "import sklearn\n",
    "import seaborn as sns\n",
    "import matplotlib.pyplot as plt\n",
    "import xgboost as xgb\n",
    "%matplotlib inline\n",
    "\n",
    "import warnings\n",
    "warnings.filterwarnings('ignore')\n",
    "\n",
    "from sklearn.model_selection import train_test_split\n",
    "from sklearn.model_selection import cross_val_score\n",
    "from sklearn.preprocessing import StandardScaler\n",
    "\n",
    "from sklearn.linear_model import LogisticRegression\n",
    "from sklearn.svm import SVC\n",
    "from sklearn.ensemble import RandomForestClassifier\n",
    "from sklearn.neighbors import KNeighborsClassifier\n",
    "from sklearn.naive_bayes import GaussianNB"
   ]
  },
  {
   "cell_type": "code",
   "execution_count": 2,
   "metadata": {
    "collapsed": true
   },
   "outputs": [],
   "source": [
    "train = pd.read_csv('data/train.csv')\n",
    "test = pd.read_csv('data/test.csv')"
   ]
  },
  {
   "cell_type": "code",
   "execution_count": 3,
   "metadata": {},
   "outputs": [
    {
     "data": {
      "text/html": [
       "<div>\n",
       "<style>\n",
       "    .dataframe thead tr:only-child th {\n",
       "        text-align: right;\n",
       "    }\n",
       "\n",
       "    .dataframe thead th {\n",
       "        text-align: left;\n",
       "    }\n",
       "\n",
       "    .dataframe tbody tr th {\n",
       "        vertical-align: top;\n",
       "    }\n",
       "</style>\n",
       "<table border=\"1\" class=\"dataframe\">\n",
       "  <thead>\n",
       "    <tr style=\"text-align: right;\">\n",
       "      <th></th>\n",
       "      <th>Id</th>\n",
       "      <th>Elevation</th>\n",
       "      <th>Aspect</th>\n",
       "      <th>Slope</th>\n",
       "      <th>Horizontal_Distance_To_Hydrology</th>\n",
       "      <th>Vertical_Distance_To_Hydrology</th>\n",
       "      <th>Horizontal_Distance_To_Roadways</th>\n",
       "      <th>Hillshade_9am</th>\n",
       "      <th>Hillshade_Noon</th>\n",
       "      <th>Hillshade_3pm</th>\n",
       "      <th>...</th>\n",
       "      <th>Soil_Type32</th>\n",
       "      <th>Soil_Type33</th>\n",
       "      <th>Soil_Type34</th>\n",
       "      <th>Soil_Type35</th>\n",
       "      <th>Soil_Type36</th>\n",
       "      <th>Soil_Type37</th>\n",
       "      <th>Soil_Type38</th>\n",
       "      <th>Soil_Type39</th>\n",
       "      <th>Soil_Type40</th>\n",
       "      <th>Cover_Type</th>\n",
       "    </tr>\n",
       "  </thead>\n",
       "  <tbody>\n",
       "    <tr>\n",
       "      <th>0</th>\n",
       "      <td>1</td>\n",
       "      <td>2596</td>\n",
       "      <td>51</td>\n",
       "      <td>3</td>\n",
       "      <td>258</td>\n",
       "      <td>0</td>\n",
       "      <td>510</td>\n",
       "      <td>221</td>\n",
       "      <td>232</td>\n",
       "      <td>148</td>\n",
       "      <td>...</td>\n",
       "      <td>0</td>\n",
       "      <td>0</td>\n",
       "      <td>0</td>\n",
       "      <td>0</td>\n",
       "      <td>0</td>\n",
       "      <td>0</td>\n",
       "      <td>0</td>\n",
       "      <td>0</td>\n",
       "      <td>0</td>\n",
       "      <td>5</td>\n",
       "    </tr>\n",
       "    <tr>\n",
       "      <th>1</th>\n",
       "      <td>2</td>\n",
       "      <td>2590</td>\n",
       "      <td>56</td>\n",
       "      <td>2</td>\n",
       "      <td>212</td>\n",
       "      <td>-6</td>\n",
       "      <td>390</td>\n",
       "      <td>220</td>\n",
       "      <td>235</td>\n",
       "      <td>151</td>\n",
       "      <td>...</td>\n",
       "      <td>0</td>\n",
       "      <td>0</td>\n",
       "      <td>0</td>\n",
       "      <td>0</td>\n",
       "      <td>0</td>\n",
       "      <td>0</td>\n",
       "      <td>0</td>\n",
       "      <td>0</td>\n",
       "      <td>0</td>\n",
       "      <td>5</td>\n",
       "    </tr>\n",
       "    <tr>\n",
       "      <th>2</th>\n",
       "      <td>3</td>\n",
       "      <td>2804</td>\n",
       "      <td>139</td>\n",
       "      <td>9</td>\n",
       "      <td>268</td>\n",
       "      <td>65</td>\n",
       "      <td>3180</td>\n",
       "      <td>234</td>\n",
       "      <td>238</td>\n",
       "      <td>135</td>\n",
       "      <td>...</td>\n",
       "      <td>0</td>\n",
       "      <td>0</td>\n",
       "      <td>0</td>\n",
       "      <td>0</td>\n",
       "      <td>0</td>\n",
       "      <td>0</td>\n",
       "      <td>0</td>\n",
       "      <td>0</td>\n",
       "      <td>0</td>\n",
       "      <td>2</td>\n",
       "    </tr>\n",
       "    <tr>\n",
       "      <th>3</th>\n",
       "      <td>4</td>\n",
       "      <td>2785</td>\n",
       "      <td>155</td>\n",
       "      <td>18</td>\n",
       "      <td>242</td>\n",
       "      <td>118</td>\n",
       "      <td>3090</td>\n",
       "      <td>238</td>\n",
       "      <td>238</td>\n",
       "      <td>122</td>\n",
       "      <td>...</td>\n",
       "      <td>0</td>\n",
       "      <td>0</td>\n",
       "      <td>0</td>\n",
       "      <td>0</td>\n",
       "      <td>0</td>\n",
       "      <td>0</td>\n",
       "      <td>0</td>\n",
       "      <td>0</td>\n",
       "      <td>0</td>\n",
       "      <td>2</td>\n",
       "    </tr>\n",
       "    <tr>\n",
       "      <th>4</th>\n",
       "      <td>5</td>\n",
       "      <td>2595</td>\n",
       "      <td>45</td>\n",
       "      <td>2</td>\n",
       "      <td>153</td>\n",
       "      <td>-1</td>\n",
       "      <td>391</td>\n",
       "      <td>220</td>\n",
       "      <td>234</td>\n",
       "      <td>150</td>\n",
       "      <td>...</td>\n",
       "      <td>0</td>\n",
       "      <td>0</td>\n",
       "      <td>0</td>\n",
       "      <td>0</td>\n",
       "      <td>0</td>\n",
       "      <td>0</td>\n",
       "      <td>0</td>\n",
       "      <td>0</td>\n",
       "      <td>0</td>\n",
       "      <td>5</td>\n",
       "    </tr>\n",
       "  </tbody>\n",
       "</table>\n",
       "<p>5 rows × 56 columns</p>\n",
       "</div>"
      ],
      "text/plain": [
       "   Id  Elevation  Aspect  Slope  Horizontal_Distance_To_Hydrology  \\\n",
       "0   1       2596      51      3                               258   \n",
       "1   2       2590      56      2                               212   \n",
       "2   3       2804     139      9                               268   \n",
       "3   4       2785     155     18                               242   \n",
       "4   5       2595      45      2                               153   \n",
       "\n",
       "   Vertical_Distance_To_Hydrology  Horizontal_Distance_To_Roadways  \\\n",
       "0                               0                              510   \n",
       "1                              -6                              390   \n",
       "2                              65                             3180   \n",
       "3                             118                             3090   \n",
       "4                              -1                              391   \n",
       "\n",
       "   Hillshade_9am  Hillshade_Noon  Hillshade_3pm     ...      Soil_Type32  \\\n",
       "0            221             232            148     ...                0   \n",
       "1            220             235            151     ...                0   \n",
       "2            234             238            135     ...                0   \n",
       "3            238             238            122     ...                0   \n",
       "4            220             234            150     ...                0   \n",
       "\n",
       "   Soil_Type33  Soil_Type34  Soil_Type35  Soil_Type36  Soil_Type37  \\\n",
       "0            0            0            0            0            0   \n",
       "1            0            0            0            0            0   \n",
       "2            0            0            0            0            0   \n",
       "3            0            0            0            0            0   \n",
       "4            0            0            0            0            0   \n",
       "\n",
       "   Soil_Type38  Soil_Type39  Soil_Type40  Cover_Type  \n",
       "0            0            0            0           5  \n",
       "1            0            0            0           5  \n",
       "2            0            0            0           2  \n",
       "3            0            0            0           2  \n",
       "4            0            0            0           5  \n",
       "\n",
       "[5 rows x 56 columns]"
      ]
     },
     "execution_count": 3,
     "metadata": {},
     "output_type": "execute_result"
    }
   ],
   "source": [
    "train.head()"
   ]
  },
  {
   "cell_type": "code",
   "execution_count": 4,
   "metadata": {
    "scrolled": true
   },
   "outputs": [
    {
     "name": "stdout",
     "output_type": "stream",
     "text": [
      "<class 'pandas.core.frame.DataFrame'>\n",
      "RangeIndex: 15120 entries, 0 to 15119\n",
      "Data columns (total 56 columns):\n",
      "Id                                    15120 non-null int64\n",
      "Elevation                             15120 non-null int64\n",
      "Aspect                                15120 non-null int64\n",
      "Slope                                 15120 non-null int64\n",
      "Horizontal_Distance_To_Hydrology      15120 non-null int64\n",
      "Vertical_Distance_To_Hydrology        15120 non-null int64\n",
      "Horizontal_Distance_To_Roadways       15120 non-null int64\n",
      "Hillshade_9am                         15120 non-null int64\n",
      "Hillshade_Noon                        15120 non-null int64\n",
      "Hillshade_3pm                         15120 non-null int64\n",
      "Horizontal_Distance_To_Fire_Points    15120 non-null int64\n",
      "Wilderness_Area1                      15120 non-null int64\n",
      "Wilderness_Area2                      15120 non-null int64\n",
      "Wilderness_Area3                      15120 non-null int64\n",
      "Wilderness_Area4                      15120 non-null int64\n",
      "Soil_Type1                            15120 non-null int64\n",
      "Soil_Type2                            15120 non-null int64\n",
      "Soil_Type3                            15120 non-null int64\n",
      "Soil_Type4                            15120 non-null int64\n",
      "Soil_Type5                            15120 non-null int64\n",
      "Soil_Type6                            15120 non-null int64\n",
      "Soil_Type7                            15120 non-null int64\n",
      "Soil_Type8                            15120 non-null int64\n",
      "Soil_Type9                            15120 non-null int64\n",
      "Soil_Type10                           15120 non-null int64\n",
      "Soil_Type11                           15120 non-null int64\n",
      "Soil_Type12                           15120 non-null int64\n",
      "Soil_Type13                           15120 non-null int64\n",
      "Soil_Type14                           15120 non-null int64\n",
      "Soil_Type15                           15120 non-null int64\n",
      "Soil_Type16                           15120 non-null int64\n",
      "Soil_Type17                           15120 non-null int64\n",
      "Soil_Type18                           15120 non-null int64\n",
      "Soil_Type19                           15120 non-null int64\n",
      "Soil_Type20                           15120 non-null int64\n",
      "Soil_Type21                           15120 non-null int64\n",
      "Soil_Type22                           15120 non-null int64\n",
      "Soil_Type23                           15120 non-null int64\n",
      "Soil_Type24                           15120 non-null int64\n",
      "Soil_Type25                           15120 non-null int64\n",
      "Soil_Type26                           15120 non-null int64\n",
      "Soil_Type27                           15120 non-null int64\n",
      "Soil_Type28                           15120 non-null int64\n",
      "Soil_Type29                           15120 non-null int64\n",
      "Soil_Type30                           15120 non-null int64\n",
      "Soil_Type31                           15120 non-null int64\n",
      "Soil_Type32                           15120 non-null int64\n",
      "Soil_Type33                           15120 non-null int64\n",
      "Soil_Type34                           15120 non-null int64\n",
      "Soil_Type35                           15120 non-null int64\n",
      "Soil_Type36                           15120 non-null int64\n",
      "Soil_Type37                           15120 non-null int64\n",
      "Soil_Type38                           15120 non-null int64\n",
      "Soil_Type39                           15120 non-null int64\n",
      "Soil_Type40                           15120 non-null int64\n",
      "Cover_Type                            15120 non-null int64\n",
      "dtypes: int64(56)\n",
      "memory usage: 6.5 MB\n"
     ]
    }
   ],
   "source": [
    "train.info()"
   ]
  },
  {
   "cell_type": "code",
   "execution_count": 5,
   "metadata": {},
   "outputs": [
    {
     "name": "stdout",
     "output_type": "stream",
     "text": [
      "<class 'pandas.core.frame.DataFrame'>\n",
      "RangeIndex: 565892 entries, 0 to 565891\n",
      "Data columns (total 55 columns):\n",
      "Id                                    565892 non-null int64\n",
      "Elevation                             565892 non-null int64\n",
      "Aspect                                565892 non-null int64\n",
      "Slope                                 565892 non-null int64\n",
      "Horizontal_Distance_To_Hydrology      565892 non-null int64\n",
      "Vertical_Distance_To_Hydrology        565892 non-null int64\n",
      "Horizontal_Distance_To_Roadways       565892 non-null int64\n",
      "Hillshade_9am                         565892 non-null int64\n",
      "Hillshade_Noon                        565892 non-null int64\n",
      "Hillshade_3pm                         565892 non-null int64\n",
      "Horizontal_Distance_To_Fire_Points    565892 non-null int64\n",
      "Wilderness_Area1                      565892 non-null int64\n",
      "Wilderness_Area2                      565892 non-null int64\n",
      "Wilderness_Area3                      565892 non-null int64\n",
      "Wilderness_Area4                      565892 non-null int64\n",
      "Soil_Type1                            565892 non-null int64\n",
      "Soil_Type2                            565892 non-null int64\n",
      "Soil_Type3                            565892 non-null int64\n",
      "Soil_Type4                            565892 non-null int64\n",
      "Soil_Type5                            565892 non-null int64\n",
      "Soil_Type6                            565892 non-null int64\n",
      "Soil_Type7                            565892 non-null int64\n",
      "Soil_Type8                            565892 non-null int64\n",
      "Soil_Type9                            565892 non-null int64\n",
      "Soil_Type10                           565892 non-null int64\n",
      "Soil_Type11                           565892 non-null int64\n",
      "Soil_Type12                           565892 non-null int64\n",
      "Soil_Type13                           565892 non-null int64\n",
      "Soil_Type14                           565892 non-null int64\n",
      "Soil_Type15                           565892 non-null int64\n",
      "Soil_Type16                           565892 non-null int64\n",
      "Soil_Type17                           565892 non-null int64\n",
      "Soil_Type18                           565892 non-null int64\n",
      "Soil_Type19                           565892 non-null int64\n",
      "Soil_Type20                           565892 non-null int64\n",
      "Soil_Type21                           565892 non-null int64\n",
      "Soil_Type22                           565892 non-null int64\n",
      "Soil_Type23                           565892 non-null int64\n",
      "Soil_Type24                           565892 non-null int64\n",
      "Soil_Type25                           565892 non-null int64\n",
      "Soil_Type26                           565892 non-null int64\n",
      "Soil_Type27                           565892 non-null int64\n",
      "Soil_Type28                           565892 non-null int64\n",
      "Soil_Type29                           565892 non-null int64\n",
      "Soil_Type30                           565892 non-null int64\n",
      "Soil_Type31                           565892 non-null int64\n",
      "Soil_Type32                           565892 non-null int64\n",
      "Soil_Type33                           565892 non-null int64\n",
      "Soil_Type34                           565892 non-null int64\n",
      "Soil_Type35                           565892 non-null int64\n",
      "Soil_Type36                           565892 non-null int64\n",
      "Soil_Type37                           565892 non-null int64\n",
      "Soil_Type38                           565892 non-null int64\n",
      "Soil_Type39                           565892 non-null int64\n",
      "Soil_Type40                           565892 non-null int64\n",
      "dtypes: int64(55)\n",
      "memory usage: 237.5 MB\n"
     ]
    }
   ],
   "source": [
    "test.info()"
   ]
  },
  {
   "cell_type": "markdown",
   "metadata": {},
   "source": [
    "1. Test data is much bigger than train data\n",
    "2. There is no missing value"
   ]
  },
  {
   "cell_type": "code",
   "execution_count": 6,
   "metadata": {},
   "outputs": [],
   "source": [
    "# split train data into train & validation data\n",
    "dataset = [train, test]\n",
    "for data in dataset:\n",
    "    data.drop('Id', axis=1, inplace=True)\n",
    "\n",
    "x_train = train.iloc[:,:-1]\n",
    "y_train = train.iloc[:,-1]\n",
    "\n",
    "nb_classes = y_train.max()\n",
    "training_samples = x_train.shape[0]"
   ]
  },
  {
   "cell_type": "code",
   "execution_count": 7,
   "metadata": {},
   "outputs": [
    {
     "data": {
      "text/plain": [
       "<matplotlib.axes._subplots.AxesSubplot at 0x107c12a20>"
      ]
     },
     "execution_count": 7,
     "metadata": {},
     "output_type": "execute_result"
    },
    {
     "data": {
      "image/png": "[encoded data removed]",
      "text/plain": [
       "<matplotlib.figure.Figure at 0x107c12208>"
      ]
     },
     "metadata": {},
     "output_type": "display_data"
    }
   ],
   "source": [
    "sns.distplot(y_train, kde=False)\n",
    "# the numbers of labels are same"
   ]
  },
  {
   "cell_type": "code",
   "execution_count": 8,
   "metadata": {
    "collapsed": true
   },
   "outputs": [],
   "source": [
    "# numbers of quantative features\n",
    "nb_quantative = 10\n",
    "quantative = list(train.columns[:nb_quantative])\n",
    "qualitative = list(train.columns[nb_quantative:])"
   ]
  },
  {
   "cell_type": "code",
   "execution_count": 9,
   "metadata": {},
   "outputs": [
    {
     "data": {
      "image/png": "[encoded data removed]",
      "text/plain": [
       "<matplotlib.figure.Figure at 0x112324898>"
      ]
     },
     "metadata": {},
     "output_type": "display_data"
    }
   ],
   "source": [
    "fig, axis = plt.subplots(2,5, figsize=(15,6))\n",
    "fig.subplots_adjust(hspace = .5, wspace=0.5)\n",
    "axis = axis.ravel()\n",
    "\n",
    "for idx, col in enumerate(quantative):\n",
    "    axis[idx].hist(x=train[col], bins=15)\n",
    "    axis[idx].set_title(col)"
   ]
  },
  {
   "cell_type": "markdown",
   "metadata": {},
   "source": [
    "Elevation, Slope, Hillshade_3pm : Gaussian distribution\n",
    "Some Horizontal Distance features are quadratic\n",
    "Vertical Distance To Hydrology values can be negative"
   ]
  },
  {
   "cell_type": "code",
   "execution_count": 10,
   "metadata": {},
   "outputs": [
    {
     "data": {
      "text/plain": [
       "<seaborn.axisgrid.FacetGrid at 0x106483588>"
      ]
     },
     "execution_count": 10,
     "metadata": {},
     "output_type": "execute_result"
    },
    {
     "data": {
      "image/png": "[encoded data removed]",
      "text/plain": [
       "<matplotlib.figure.Figure at 0x1122cc9e8>"
      ]
     },
     "metadata": {},
     "output_type": "display_data"
    }
   ],
   "source": [
    "# new feature : Is hydrology below the forest?\n",
    "for data in dataset:\n",
    "    data['Is_Water_Below'] = data.apply(\n",
    "        lambda x: 1 if x['Vertical_Distance_To_Hydrology'] < 0 else 0, axis=1)\n",
    "sns.factorplot(x='Cover_Type',y='Is_Water_Below',data=train)"
   ]
  },
  {
   "cell_type": "code",
   "execution_count": 11,
   "metadata": {
    "collapsed": true
   },
   "outputs": [],
   "source": [
    "# new feature : distance to hydrology\n",
    "for data in dataset:\n",
    "    data['Distance_To_Hydrology'] = np.sqrt(data['Horizontal_Distance_To_Hydrology']**2\n",
    "                            + data['Vertical_Distance_To_Hydrology']**2)"
   ]
  },
  {
   "cell_type": "code",
   "execution_count": 12,
   "metadata": {},
   "outputs": [],
   "source": [
    "# new feature : sum of two distance factors and absolute difference\n",
    "for data in dataset:\n",
    "    data['Elev_Horz_Hydro_Sum'] = data['Elevation'] + data['Horizontal_Distance_To_Hydrology']\n",
    "    data['Elev_Horz_Hydro_Diff'] = np.abs(data['Elevation'] - data['Horizontal_Distance_To_Hydrology'])\n",
    "    data['Elev_Vert_Hydro_Sum'] = data['Elevation'] + data['Vertical_Distance_To_Hydrology']\n",
    "    data['Elev_Vert_Hydro_Diff'] = np.abs(data['Elevation'] - data['Vertical_Distance_To_Hydrology'])\n",
    "    \n",
    "    data['Fire_Road_Sum'] = data['Horizontal_Distance_To_Fire_Points'] + data['Horizontal_Distance_To_Roadways']\n",
    "    data['Fire_Road_Diff'] = np.abs(data['Horizontal_Distance_To_Fire_Points'] -\n",
    "                                    data['Horizontal_Distance_To_Roadways'])\n",
    "    \n",
    "    data['Hydro_Road_Sum'] = data['Horizontal_Distance_To_Hydrology'] + data['Horizontal_Distance_To_Roadways']\n",
    "    data['Hydro_Road_Diff'] = np.abs(data['Horizontal_Distance_To_Hydrology'] -\n",
    "                                     data['Horizontal_Distance_To_Roadways'])\n",
    "    \n",
    "    data['Hydro_Fire_Sum'] = data['Horizontal_Distance_To_Hydrology'] + \\\n",
    "                             data['Horizontal_Distance_To_Fire_Points']\n",
    "    data['Hydro_Fire_Diff'] = np.abs(data['Horizontal_Distance_To_Hydrology'] - \\\n",
    "                                     data['Horizontal_Distance_To_Fire_Points'])"
   ]
  },
  {
   "cell_type": "code",
   "execution_count": 13,
   "metadata": {
    "collapsed": true
   },
   "outputs": [],
   "source": [
    "# feature processing : sqrt of quadratic features\n",
    "quadratic_features = ['Horizontal_Distance_To_Hydrology', 'Horizontal_Distance_To_Roadways',\n",
    "                      'Hillshade_9am', 'Hillshade_Noon', 'Horizontal_Distance_To_Fire_Points',\n",
    "                    'Distance_To_Hydrology', 'Fire_Road_Sum', 'Fire_Road_Diff',\n",
    "                      'Hydro_Road_Sum', 'Hydro_Fire_Sum', 'Hydro_Fire_Diff']\n",
    "for col in quadratic_features:\n",
    "    for data in dataset:\n",
    "        data[col] = np.sqrt(data[col])"
   ]
  },
  {
   "cell_type": "code",
   "execution_count": 14,
   "metadata": {
    "collapsed": true
   },
   "outputs": [],
   "source": [
    "ref_index = list(train.columns).index('Distance_To_Hydrology')\n",
    "new_quantative = list(train.columns[ref_index:])\n",
    "quantative += new_quantative"
   ]
  },
  {
   "cell_type": "code",
   "execution_count": 15,
   "metadata": {
    "scrolled": false
   },
   "outputs": [
    {
     "data": {
      "image/png": "[encoded data removed]",
      "text/plain": [
       "<matplotlib.figure.Figure at 0x1157d1780>"
      ]
     },
     "metadata": {},
     "output_type": "display_data"
    }
   ],
   "source": [
    "fig, axis = plt.subplots(2, 6, figsize=(15,6))\n",
    "axis = axis.ravel()\n",
    "for idx, col in enumerate(new_quantative):\n",
    "    axis[idx].hist(train[col])\n",
    "    axis[idx].set_title(col)"
   ]
  },
  {
   "cell_type": "code",
   "execution_count": 16,
   "metadata": {
    "collapsed": true
   },
   "outputs": [],
   "source": [
    "# drop the constant columns\n",
    "cols_constant = [col for col in train.columns if train[col].std() == 0]\n",
    "for data in dataset:\n",
    "    if cols_constant != 'Cover_Type':\n",
    "        data.drop(cols_constant, axis=1, inplace=True)"
   ]
  },
  {
   "cell_type": "code",
   "execution_count": 17,
   "metadata": {
    "scrolled": true
   },
   "outputs": [
    {
     "data": {
      "text/plain": [
       "Index(['Elevation', 'Aspect', 'Slope', 'Horizontal_Distance_To_Hydrology',\n",
       "       'Vertical_Distance_To_Hydrology', 'Horizontal_Distance_To_Roadways',\n",
       "       'Hillshade_9am', 'Hillshade_Noon', 'Hillshade_3pm',\n",
       "       'Horizontal_Distance_To_Fire_Points', 'Wilderness_Area1',\n",
       "       'Wilderness_Area2', 'Wilderness_Area3', 'Wilderness_Area4',\n",
       "       'Soil_Type1', 'Soil_Type2', 'Soil_Type3', 'Soil_Type4', 'Soil_Type5',\n",
       "       'Soil_Type6', 'Soil_Type8', 'Soil_Type9', 'Soil_Type10', 'Soil_Type11',\n",
       "       'Soil_Type12', 'Soil_Type13', 'Soil_Type14', 'Soil_Type16',\n",
       "       'Soil_Type17', 'Soil_Type18', 'Soil_Type19', 'Soil_Type20',\n",
       "       'Soil_Type21', 'Soil_Type22', 'Soil_Type23', 'Soil_Type24',\n",
       "       'Soil_Type25', 'Soil_Type26', 'Soil_Type27', 'Soil_Type28',\n",
       "       'Soil_Type29', 'Soil_Type30', 'Soil_Type31', 'Soil_Type32',\n",
       "       'Soil_Type33', 'Soil_Type34', 'Soil_Type35', 'Soil_Type36',\n",
       "       'Soil_Type37', 'Soil_Type38', 'Soil_Type39', 'Soil_Type40',\n",
       "       'Cover_Type', 'Is_Water_Below', 'Distance_To_Hydrology',\n",
       "       'Elev_Horz_Hydro_Sum', 'Elev_Horz_Hydro_Diff', 'Elev_Vert_Hydro_Sum',\n",
       "       'Elev_Vert_Hydro_Diff', 'Fire_Road_Sum', 'Fire_Road_Diff',\n",
       "       'Hydro_Road_Sum', 'Hydro_Road_Diff', 'Hydro_Fire_Sum',\n",
       "       'Hydro_Fire_Diff'],\n",
       "      dtype='object')"
      ]
     },
     "execution_count": 17,
     "metadata": {},
     "output_type": "execute_result"
    }
   ],
   "source": [
    "train.columns"
   ]
  },
  {
   "cell_type": "code",
   "execution_count": 18,
   "metadata": {},
   "outputs": [],
   "source": [
    "# Standardization\n",
    "# sc = StandardScaler()\n",
    "# sc.fit(train[quantative])\n",
    "# for data in dataset:\n",
    "#     data[quantative] = sc.transform(data[quantative])"
   ]
  },
  {
   "cell_type": "code",
   "execution_count": 19,
   "metadata": {},
   "outputs": [],
   "source": [
    "y_train = train.loc[:, 'Cover_Type']\n",
    "x_train = train.drop('Cover_Type', axis=1)"
   ]
  },
  {
   "cell_type": "markdown",
   "metadata": {},
   "source": [
    "# Models"
   ]
  },
  {
   "cell_type": "code",
   "execution_count": 20,
   "metadata": {},
   "outputs": [
    {
     "data": {
      "text/html": [
       "<div>\n",
       "<style>\n",
       "    .dataframe thead tr:only-child th {\n",
       "        text-align: right;\n",
       "    }\n",
       "\n",
       "    .dataframe thead th {\n",
       "        text-align: left;\n",
       "    }\n",
       "\n",
       "    .dataframe tbody tr th {\n",
       "        vertical-align: top;\n",
       "    }\n",
       "</style>\n",
       "<table border=\"1\" class=\"dataframe\">\n",
       "  <thead>\n",
       "    <tr style=\"text-align: right;\">\n",
       "      <th></th>\n",
       "      <th>Elevation</th>\n",
       "      <th>Aspect</th>\n",
       "      <th>Slope</th>\n",
       "      <th>Horizontal_Distance_To_Hydrology</th>\n",
       "      <th>Vertical_Distance_To_Hydrology</th>\n",
       "      <th>Horizontal_Distance_To_Roadways</th>\n",
       "      <th>Hillshade_9am</th>\n",
       "      <th>Hillshade_Noon</th>\n",
       "      <th>Hillshade_3pm</th>\n",
       "      <th>Horizontal_Distance_To_Fire_Points</th>\n",
       "      <th>...</th>\n",
       "      <th>Elev_Horz_Hydro_Sum</th>\n",
       "      <th>Elev_Horz_Hydro_Diff</th>\n",
       "      <th>Elev_Vert_Hydro_Sum</th>\n",
       "      <th>Elev_Vert_Hydro_Diff</th>\n",
       "      <th>Fire_Road_Sum</th>\n",
       "      <th>Fire_Road_Diff</th>\n",
       "      <th>Hydro_Road_Sum</th>\n",
       "      <th>Hydro_Road_Diff</th>\n",
       "      <th>Hydro_Fire_Sum</th>\n",
       "      <th>Hydro_Fire_Diff</th>\n",
       "    </tr>\n",
       "  </thead>\n",
       "  <tbody>\n",
       "    <tr>\n",
       "      <th>0</th>\n",
       "      <td>2596</td>\n",
       "      <td>51</td>\n",
       "      <td>3</td>\n",
       "      <td>16.062378</td>\n",
       "      <td>0</td>\n",
       "      <td>22.583180</td>\n",
       "      <td>14.866069</td>\n",
       "      <td>15.231546</td>\n",
       "      <td>148</td>\n",
       "      <td>79.240141</td>\n",
       "      <td>...</td>\n",
       "      <td>2854</td>\n",
       "      <td>2338</td>\n",
       "      <td>2596</td>\n",
       "      <td>2596</td>\n",
       "      <td>82.395388</td>\n",
       "      <td>75.953933</td>\n",
       "      <td>27.712813</td>\n",
       "      <td>252</td>\n",
       "      <td>80.851716</td>\n",
       "      <td>77.595103</td>\n",
       "    </tr>\n",
       "    <tr>\n",
       "      <th>1</th>\n",
       "      <td>2590</td>\n",
       "      <td>56</td>\n",
       "      <td>2</td>\n",
       "      <td>14.560220</td>\n",
       "      <td>-6</td>\n",
       "      <td>19.748418</td>\n",
       "      <td>14.832397</td>\n",
       "      <td>15.329710</td>\n",
       "      <td>151</td>\n",
       "      <td>78.898669</td>\n",
       "      <td>...</td>\n",
       "      <td>2802</td>\n",
       "      <td>2378</td>\n",
       "      <td>2584</td>\n",
       "      <td>2596</td>\n",
       "      <td>81.332650</td>\n",
       "      <td>76.387172</td>\n",
       "      <td>24.535688</td>\n",
       "      <td>178</td>\n",
       "      <td>80.230917</td>\n",
       "      <td>77.543536</td>\n",
       "    </tr>\n",
       "    <tr>\n",
       "      <th>2</th>\n",
       "      <td>2804</td>\n",
       "      <td>139</td>\n",
       "      <td>9</td>\n",
       "      <td>16.370706</td>\n",
       "      <td>65</td>\n",
       "      <td>56.391489</td>\n",
       "      <td>15.297059</td>\n",
       "      <td>15.427249</td>\n",
       "      <td>135</td>\n",
       "      <td>78.236820</td>\n",
       "      <td>...</td>\n",
       "      <td>3072</td>\n",
       "      <td>2536</td>\n",
       "      <td>2869</td>\n",
       "      <td>2739</td>\n",
       "      <td>96.441692</td>\n",
       "      <td>54.230987</td>\n",
       "      <td>58.719673</td>\n",
       "      <td>2912</td>\n",
       "      <td>79.931220</td>\n",
       "      <td>76.504902</td>\n",
       "    </tr>\n",
       "    <tr>\n",
       "      <th>3</th>\n",
       "      <td>2785</td>\n",
       "      <td>155</td>\n",
       "      <td>18</td>\n",
       "      <td>15.556349</td>\n",
       "      <td>118</td>\n",
       "      <td>55.587768</td>\n",
       "      <td>15.427249</td>\n",
       "      <td>15.427249</td>\n",
       "      <td>122</td>\n",
       "      <td>78.809898</td>\n",
       "      <td>...</td>\n",
       "      <td>3027</td>\n",
       "      <td>2543</td>\n",
       "      <td>2903</td>\n",
       "      <td>2667</td>\n",
       "      <td>96.441692</td>\n",
       "      <td>55.865911</td>\n",
       "      <td>57.723479</td>\n",
       "      <td>2848</td>\n",
       "      <td>80.330567</td>\n",
       "      <td>77.259304</td>\n",
       "    </tr>\n",
       "    <tr>\n",
       "      <th>4</th>\n",
       "      <td>2595</td>\n",
       "      <td>45</td>\n",
       "      <td>2</td>\n",
       "      <td>12.369317</td>\n",
       "      <td>-1</td>\n",
       "      <td>19.773720</td>\n",
       "      <td>14.832397</td>\n",
       "      <td>15.297059</td>\n",
       "      <td>150</td>\n",
       "      <td>78.562077</td>\n",
       "      <td>...</td>\n",
       "      <td>2748</td>\n",
       "      <td>2442</td>\n",
       "      <td>2594</td>\n",
       "      <td>2596</td>\n",
       "      <td>81.012345</td>\n",
       "      <td>76.032888</td>\n",
       "      <td>23.323808</td>\n",
       "      <td>238</td>\n",
       "      <td>79.529869</td>\n",
       "      <td>77.582214</td>\n",
       "    </tr>\n",
       "  </tbody>\n",
       "</table>\n",
       "<p>5 rows × 64 columns</p>\n",
       "</div>"
      ],
      "text/plain": [
       "   Elevation  Aspect  Slope  Horizontal_Distance_To_Hydrology  \\\n",
       "0       2596      51      3                         16.062378   \n",
       "1       2590      56      2                         14.560220   \n",
       "2       2804     139      9                         16.370706   \n",
       "3       2785     155     18                         15.556349   \n",
       "4       2595      45      2                         12.369317   \n",
       "\n",
       "   Vertical_Distance_To_Hydrology  Horizontal_Distance_To_Roadways  \\\n",
       "0                               0                        22.583180   \n",
       "1                              -6                        19.748418   \n",
       "2                              65                        56.391489   \n",
       "3                             118                        55.587768   \n",
       "4                              -1                        19.773720   \n",
       "\n",
       "   Hillshade_9am  Hillshade_Noon  Hillshade_3pm  \\\n",
       "0      14.866069       15.231546            148   \n",
       "1      14.832397       15.329710            151   \n",
       "2      15.297059       15.427249            135   \n",
       "3      15.427249       15.427249            122   \n",
       "4      14.832397       15.297059            150   \n",
       "\n",
       "   Horizontal_Distance_To_Fire_Points       ...         Elev_Horz_Hydro_Sum  \\\n",
       "0                           79.240141       ...                        2854   \n",
       "1                           78.898669       ...                        2802   \n",
       "2                           78.236820       ...                        3072   \n",
       "3                           78.809898       ...                        3027   \n",
       "4                           78.562077       ...                        2748   \n",
       "\n",
       "   Elev_Horz_Hydro_Diff  Elev_Vert_Hydro_Sum  Elev_Vert_Hydro_Diff  \\\n",
       "0                  2338                 2596                  2596   \n",
       "1                  2378                 2584                  2596   \n",
       "2                  2536                 2869                  2739   \n",
       "3                  2543                 2903                  2667   \n",
       "4                  2442                 2594                  2596   \n",
       "\n",
       "   Fire_Road_Sum  Fire_Road_Diff  Hydro_Road_Sum  Hydro_Road_Diff  \\\n",
       "0      82.395388       75.953933       27.712813              252   \n",
       "1      81.332650       76.387172       24.535688              178   \n",
       "2      96.441692       54.230987       58.719673             2912   \n",
       "3      96.441692       55.865911       57.723479             2848   \n",
       "4      81.012345       76.032888       23.323808              238   \n",
       "\n",
       "   Hydro_Fire_Sum  Hydro_Fire_Diff  \n",
       "0       80.851716        77.595103  \n",
       "1       80.230917        77.543536  \n",
       "2       79.931220        76.504902  \n",
       "3       80.330567        77.259304  \n",
       "4       79.529869        77.582214  \n",
       "\n",
       "[5 rows x 64 columns]"
      ]
     },
     "execution_count": 20,
     "metadata": {},
     "output_type": "execute_result"
    }
   ],
   "source": [
    "x_train.head()"
   ]
  },
  {
   "cell_type": "code",
   "execution_count": 21,
   "metadata": {},
   "outputs": [
    {
     "data": {
      "text/plain": [
       "0.68386243386243384"
      ]
     },
     "execution_count": 21,
     "metadata": {},
     "output_type": "execute_result"
    }
   ],
   "source": [
    "# Logistic Regression\n",
    "lr = LogisticRegression(C=10)\n",
    "lr.fit(x_train, y_train)\n",
    "lr_pred = lr.predict(test)\n",
    "lr.score(x_train, y_train)"
   ]
  },
  {
   "cell_type": "code",
   "execution_count": 22,
   "metadata": {},
   "outputs": [
    {
     "data": {
      "text/plain": [
       "0.78928571428571426"
      ]
     },
     "execution_count": 22,
     "metadata": {},
     "output_type": "execute_result"
    }
   ],
   "source": [
    "# Raondom Forest\n",
    "rf = RandomForestClassifier(n_estimators=300,max_depth=7)\n",
    "rf.fit(x_train, y_train)\n",
    "rf.score(x_train, y_train)"
   ]
  },
  {
   "cell_type": "code",
   "execution_count": 23,
   "metadata": {},
   "outputs": [
    {
     "data": {
      "text/plain": [
       "RandomForestClassifier(bootstrap=True, class_weight=None, criterion='gini',\n",
       "            max_depth=7, max_features='auto', max_leaf_nodes=None,\n",
       "            min_impurity_split=1e-07, min_samples_leaf=1,\n",
       "            min_samples_split=2, min_weight_fraction_leaf=0.0,\n",
       "            n_estimators=300, n_jobs=1, oob_score=False, random_state=None,\n",
       "            verbose=0, warm_start=False)"
      ]
     },
     "execution_count": 23,
     "metadata": {},
     "output_type": "execute_result"
    }
   ],
   "source": [
    "rf.fit(x_train, y_train)"
   ]
  },
  {
   "cell_type": "code",
   "execution_count": 24,
   "metadata": {},
   "outputs": [
    {
     "data": {
      "text/plain": [
       "0.89841269841269844"
      ]
     },
     "execution_count": 24,
     "metadata": {},
     "output_type": "execute_result"
    }
   ],
   "source": [
    "# KNN\n",
    "knn = KNeighborsClassifier(n_neighbors = 3)\n",
    "knn.fit(x_train, y_train)\n",
    "knn.score(x_train, y_train)\n",
    "# knn_pred = knn.predict(x_test)"
   ]
  },
  {
   "cell_type": "code",
   "execution_count": 25,
   "metadata": {},
   "outputs": [
    {
     "data": {
      "text/plain": [
       "1.0"
      ]
     },
     "execution_count": 25,
     "metadata": {},
     "output_type": "execute_result"
    }
   ],
   "source": [
    "# Support Vector Machine\n",
    "svc = SVC()\n",
    "svc.fit(x_train, y_train)\n",
    "svc.score(x_train, y_train)\n",
    "# svc_pred = svc.predict(x_test)"
   ]
  },
  {
   "cell_type": "code",
   "execution_count": 31,
   "metadata": {},
   "outputs": [
    {
     "name": "stdout",
     "output_type": "stream",
     "text": [
      "CV accuracy of RandomForestClassifier(bootstrap=True, class_weight=None, criterion='gini',\n",
      "            max_depth=7, max_features='auto', max_leaf_nodes=None,\n",
      "            min_impurity_split=1e-07, min_samples_leaf=1,\n",
      "            min_samples_split=2, min_weight_fraction_leaf=0.0,\n",
      "            n_estimators=300, n_jobs=1, oob_score=False, random_state=None,\n",
      "            verbose=0, warm_start=False) is \n",
      " 0.719 +-0.034\n",
      "CV accuracy of KNeighborsClassifier(algorithm='auto', leaf_size=30, metric='minkowski',\n",
      "           metric_params=None, n_jobs=1, n_neighbors=3, p=2,\n",
      "           weights='uniform') is \n",
      " 0.686 +-0.044\n"
     ]
    }
   ],
   "source": [
    "for estimator in [rf, knn]:\n",
    "    scores = cross_val_score(estimator = estimator,\n",
    "                         X = x_train,\n",
    "                         y = y_train, \n",
    "                         cv = 10,\n",
    "                         n_jobs = -1\n",
    "                        )\n",
    "\n",
    "    print('CV accuracy of %s is \\n %.3f +-%.3f' %(str(estimator), np.mean(scores), np.std(scores)))"
   ]
  },
  {
   "cell_type": "code",
   "execution_count": 32,
   "metadata": {
    "collapsed": true
   },
   "outputs": [],
   "source": [
    "# xgbclassifier\n",
    "clf = xgb.XGBClassifier(max_depth=7,\n",
    "                        n_estimators=350, learning_rate=0.03,\n",
    "                        subsample=0.95,\n",
    "                        colsample_bytree=0.85, seed=1)"
   ]
  },
  {
   "cell_type": "code",
   "execution_count": 35,
   "metadata": {
    "collapsed": true
   },
   "outputs": [],
   "source": [
    "train_x, val_x, train_y, val_y = train_test_split(x_train, y_train, test_size=0.2)"
   ]
  },
  {
   "cell_type": "code",
   "execution_count": 36,
   "metadata": {},
   "outputs": [
    {
     "name": "stdout",
     "output_type": "stream",
     "text": [
      "[0]\tvalidation_0-merror:0.252976\n",
      "Will train until validation_0-merror hasn't improved in 40 rounds.\n",
      "[1]\tvalidation_0-merror:0.225198\n",
      "[2]\tvalidation_0-merror:0.218915\n",
      "[3]\tvalidation_0-merror:0.219907\n",
      "[4]\tvalidation_0-merror:0.221892\n",
      "[5]\tvalidation_0-merror:0.217262\n",
      "[6]\tvalidation_0-merror:0.214286\n",
      "[7]\tvalidation_0-merror:0.209656\n",
      "[8]\tvalidation_0-merror:0.207341\n",
      "[9]\tvalidation_0-merror:0.203042\n",
      "[10]\tvalidation_0-merror:0.207011\n",
      "[11]\tvalidation_0-merror:0.204034\n",
      "[12]\tvalidation_0-merror:0.204365\n",
      "[13]\tvalidation_0-merror:0.205357\n",
      "[14]\tvalidation_0-merror:0.204365\n",
      "[15]\tvalidation_0-merror:0.204034\n",
      "[16]\tvalidation_0-merror:0.203373\n",
      "[17]\tvalidation_0-merror:0.204365\n",
      "[18]\tvalidation_0-merror:0.201058\n",
      "[19]\tvalidation_0-merror:0.199405\n",
      "[20]\tvalidation_0-merror:0.198743\n",
      "[21]\tvalidation_0-merror:0.196429\n",
      "[22]\tvalidation_0-merror:0.195437\n",
      "[23]\tvalidation_0-merror:0.195767\n",
      "[24]\tvalidation_0-merror:0.194444\n",
      "[25]\tvalidation_0-merror:0.195437\n",
      "[26]\tvalidation_0-merror:0.193783\n",
      "[27]\tvalidation_0-merror:0.191799\n",
      "[28]\tvalidation_0-merror:0.19246\n",
      "[29]\tvalidation_0-merror:0.19213\n",
      "[30]\tvalidation_0-merror:0.19246\n",
      "[31]\tvalidation_0-merror:0.190807\n",
      "[32]\tvalidation_0-merror:0.191138\n",
      "[33]\tvalidation_0-merror:0.190476\n",
      "[34]\tvalidation_0-merror:0.188492\n",
      "[35]\tvalidation_0-merror:0.190807\n",
      "[36]\tvalidation_0-merror:0.189153\n",
      "[37]\tvalidation_0-merror:0.189484\n",
      "[38]\tvalidation_0-merror:0.188823\n",
      "[39]\tvalidation_0-merror:0.188161\n",
      "[40]\tvalidation_0-merror:0.189484\n",
      "[41]\tvalidation_0-merror:0.189484\n",
      "[42]\tvalidation_0-merror:0.188492\n",
      "[43]\tvalidation_0-merror:0.188492\n",
      "[44]\tvalidation_0-merror:0.189815\n",
      "[45]\tvalidation_0-merror:0.1875\n",
      "[46]\tvalidation_0-merror:0.186508\n",
      "[47]\tvalidation_0-merror:0.185847\n",
      "[48]\tvalidation_0-merror:0.188492\n",
      "[49]\tvalidation_0-merror:0.187169\n",
      "[50]\tvalidation_0-merror:0.189153\n",
      "[51]\tvalidation_0-merror:0.189153\n",
      "[52]\tvalidation_0-merror:0.187831\n",
      "[53]\tvalidation_0-merror:0.187831\n",
      "[54]\tvalidation_0-merror:0.187831\n",
      "[55]\tvalidation_0-merror:0.1875\n",
      "[56]\tvalidation_0-merror:0.187831\n",
      "[57]\tvalidation_0-merror:0.188492\n",
      "[58]\tvalidation_0-merror:0.188161\n",
      "[59]\tvalidation_0-merror:0.1875\n",
      "[60]\tvalidation_0-merror:0.187831\n",
      "[61]\tvalidation_0-merror:0.1875\n",
      "[62]\tvalidation_0-merror:0.187169\n",
      "[63]\tvalidation_0-merror:0.186839\n",
      "[64]\tvalidation_0-merror:0.186177\n",
      "[65]\tvalidation_0-merror:0.186177\n",
      "[66]\tvalidation_0-merror:0.187169\n",
      "[67]\tvalidation_0-merror:0.186177\n",
      "[68]\tvalidation_0-merror:0.187169\n",
      "[69]\tvalidation_0-merror:0.187831\n",
      "[70]\tvalidation_0-merror:0.187831\n",
      "[71]\tvalidation_0-merror:0.1875\n",
      "[72]\tvalidation_0-merror:0.188492\n",
      "[73]\tvalidation_0-merror:0.188492\n",
      "[74]\tvalidation_0-merror:0.188161\n",
      "[75]\tvalidation_0-merror:0.187169\n",
      "[76]\tvalidation_0-merror:0.186508\n",
      "[77]\tvalidation_0-merror:0.185516\n",
      "[78]\tvalidation_0-merror:0.185847\n",
      "[79]\tvalidation_0-merror:0.185847\n",
      "[80]\tvalidation_0-merror:0.185185\n",
      "[81]\tvalidation_0-merror:0.184524\n",
      "[82]\tvalidation_0-merror:0.184193\n",
      "[83]\tvalidation_0-merror:0.183201\n",
      "[84]\tvalidation_0-merror:0.18287\n",
      "[85]\tvalidation_0-merror:0.182209\n",
      "[86]\tvalidation_0-merror:0.18254\n",
      "[87]\tvalidation_0-merror:0.182209\n",
      "[88]\tvalidation_0-merror:0.182209\n",
      "[89]\tvalidation_0-merror:0.181878\n",
      "[90]\tvalidation_0-merror:0.181548\n",
      "[91]\tvalidation_0-merror:0.181878\n",
      "[92]\tvalidation_0-merror:0.181217\n",
      "[93]\tvalidation_0-merror:0.180886\n",
      "[94]\tvalidation_0-merror:0.181548\n",
      "[95]\tvalidation_0-merror:0.181217\n",
      "[96]\tvalidation_0-merror:0.180886\n",
      "[97]\tvalidation_0-merror:0.180886\n",
      "[98]\tvalidation_0-merror:0.180556\n",
      "[99]\tvalidation_0-merror:0.179894\n",
      "[100]\tvalidation_0-merror:0.178902\n",
      "[101]\tvalidation_0-merror:0.178571\n",
      "[102]\tvalidation_0-merror:0.177249\n",
      "[103]\tvalidation_0-merror:0.175926\n",
      "[104]\tvalidation_0-merror:0.175926\n",
      "[105]\tvalidation_0-merror:0.174934\n",
      "[106]\tvalidation_0-merror:0.175265\n",
      "[107]\tvalidation_0-merror:0.175595\n",
      "[108]\tvalidation_0-merror:0.174934\n",
      "[109]\tvalidation_0-merror:0.173611\n",
      "[110]\tvalidation_0-merror:0.17295\n",
      "[111]\tvalidation_0-merror:0.172619\n",
      "[112]\tvalidation_0-merror:0.172288\n",
      "[113]\tvalidation_0-merror:0.17295\n",
      "[114]\tvalidation_0-merror:0.171627\n",
      "[115]\tvalidation_0-merror:0.170635\n",
      "[116]\tvalidation_0-merror:0.171296\n",
      "[117]\tvalidation_0-merror:0.170966\n",
      "[118]\tvalidation_0-merror:0.171296\n",
      "[119]\tvalidation_0-merror:0.170966\n",
      "[120]\tvalidation_0-merror:0.171958\n",
      "[121]\tvalidation_0-merror:0.171958\n",
      "[122]\tvalidation_0-merror:0.171296\n",
      "[123]\tvalidation_0-merror:0.170635\n",
      "[124]\tvalidation_0-merror:0.171296\n",
      "[125]\tvalidation_0-merror:0.170966\n",
      "[126]\tvalidation_0-merror:0.170635\n",
      "[127]\tvalidation_0-merror:0.170966\n",
      "[128]\tvalidation_0-merror:0.169974\n",
      "[129]\tvalidation_0-merror:0.169974\n",
      "[130]\tvalidation_0-merror:0.170304\n",
      "[131]\tvalidation_0-merror:0.169312\n",
      "[132]\tvalidation_0-merror:0.169312\n",
      "[133]\tvalidation_0-merror:0.169643\n",
      "[134]\tvalidation_0-merror:0.169312\n",
      "[135]\tvalidation_0-merror:0.168981\n",
      "[136]\tvalidation_0-merror:0.168651\n",
      "[137]\tvalidation_0-merror:0.168981\n",
      "[138]\tvalidation_0-merror:0.168981\n",
      "[139]\tvalidation_0-merror:0.167989\n",
      "[140]\tvalidation_0-merror:0.167659\n",
      "[141]\tvalidation_0-merror:0.167989\n",
      "[142]\tvalidation_0-merror:0.166997\n",
      "[143]\tvalidation_0-merror:0.166667\n",
      "[144]\tvalidation_0-merror:0.166336\n",
      "[145]\tvalidation_0-merror:0.166997\n",
      "[146]\tvalidation_0-merror:0.166336\n",
      "[147]\tvalidation_0-merror:0.166667\n",
      "[148]\tvalidation_0-merror:0.166997\n",
      "[149]\tvalidation_0-merror:0.166997\n",
      "[150]\tvalidation_0-merror:0.166997\n",
      "[151]\tvalidation_0-merror:0.166667\n",
      "[152]\tvalidation_0-merror:0.166667\n",
      "[153]\tvalidation_0-merror:0.166667\n",
      "[154]\tvalidation_0-merror:0.166667\n",
      "[155]\tvalidation_0-merror:0.166005\n",
      "[156]\tvalidation_0-merror:0.165013\n",
      "[157]\tvalidation_0-merror:0.165344\n",
      "[158]\tvalidation_0-merror:0.165013\n",
      "[159]\tvalidation_0-merror:0.164683\n",
      "[160]\tvalidation_0-merror:0.164683\n",
      "[161]\tvalidation_0-merror:0.164683\n",
      "[162]\tvalidation_0-merror:0.164352\n",
      "[163]\tvalidation_0-merror:0.164021\n",
      "[164]\tvalidation_0-merror:0.16336\n",
      "[165]\tvalidation_0-merror:0.16336\n",
      "[166]\tvalidation_0-merror:0.162698\n",
      "[167]\tvalidation_0-merror:0.162368\n",
      "[168]\tvalidation_0-merror:0.162037\n",
      "[169]\tvalidation_0-merror:0.162368\n",
      "[170]\tvalidation_0-merror:0.162037\n",
      "[171]\tvalidation_0-merror:0.16336\n",
      "[172]\tvalidation_0-merror:0.163029\n",
      "[173]\tvalidation_0-merror:0.163029\n",
      "[174]\tvalidation_0-merror:0.162037\n",
      "[175]\tvalidation_0-merror:0.161045\n",
      "[176]\tvalidation_0-merror:0.161045\n",
      "[177]\tvalidation_0-merror:0.161376\n",
      "[178]\tvalidation_0-merror:0.161376\n",
      "[179]\tvalidation_0-merror:0.161045\n",
      "[180]\tvalidation_0-merror:0.160384\n",
      "[181]\tvalidation_0-merror:0.161376\n",
      "[182]\tvalidation_0-merror:0.161376\n",
      "[183]\tvalidation_0-merror:0.161706\n",
      "[184]\tvalidation_0-merror:0.160714\n",
      "[185]\tvalidation_0-merror:0.160714\n",
      "[186]\tvalidation_0-merror:0.160384\n",
      "[187]\tvalidation_0-merror:0.160384\n",
      "[188]\tvalidation_0-merror:0.160053\n",
      "[189]\tvalidation_0-merror:0.160053\n",
      "[190]\tvalidation_0-merror:0.15873\n",
      "[191]\tvalidation_0-merror:0.159392\n",
      "[192]\tvalidation_0-merror:0.159061\n",
      "[193]\tvalidation_0-merror:0.159392\n",
      "[194]\tvalidation_0-merror:0.159392\n",
      "[195]\tvalidation_0-merror:0.15873\n",
      "[196]\tvalidation_0-merror:0.15873\n",
      "[197]\tvalidation_0-merror:0.15873\n",
      "[198]\tvalidation_0-merror:0.158399\n",
      "[199]\tvalidation_0-merror:0.157407\n",
      "[200]\tvalidation_0-merror:0.157738\n",
      "[201]\tvalidation_0-merror:0.156415\n",
      "[202]\tvalidation_0-merror:0.157077\n",
      "[203]\tvalidation_0-merror:0.156085\n",
      "[204]\tvalidation_0-merror:0.156085\n",
      "[205]\tvalidation_0-merror:0.156085\n",
      "[206]\tvalidation_0-merror:0.156415\n",
      "[207]\tvalidation_0-merror:0.155754\n",
      "[208]\tvalidation_0-merror:0.156085\n",
      "[209]\tvalidation_0-merror:0.156085\n",
      "[210]\tvalidation_0-merror:0.155093\n",
      "[211]\tvalidation_0-merror:0.156085\n",
      "[212]\tvalidation_0-merror:0.156415\n",
      "[213]\tvalidation_0-merror:0.155754\n",
      "[214]\tvalidation_0-merror:0.156415\n",
      "[215]\tvalidation_0-merror:0.156085\n",
      "[216]\tvalidation_0-merror:0.155093\n",
      "[217]\tvalidation_0-merror:0.155093\n",
      "[218]\tvalidation_0-merror:0.155754\n",
      "[219]\tvalidation_0-merror:0.155754\n",
      "[220]\tvalidation_0-merror:0.155423\n",
      "[221]\tvalidation_0-merror:0.155754\n",
      "[222]\tvalidation_0-merror:0.155754\n",
      "[223]\tvalidation_0-merror:0.156415\n",
      "[224]\tvalidation_0-merror:0.154762\n",
      "[225]\tvalidation_0-merror:0.154762\n",
      "[226]\tvalidation_0-merror:0.154101\n",
      "[227]\tvalidation_0-merror:0.154101\n",
      "[228]\tvalidation_0-merror:0.153108\n",
      "[229]\tvalidation_0-merror:0.153108\n",
      "[230]\tvalidation_0-merror:0.153108\n",
      "[231]\tvalidation_0-merror:0.152447\n",
      "[232]\tvalidation_0-merror:0.152116\n",
      "[233]\tvalidation_0-merror:0.152447\n",
      "[234]\tvalidation_0-merror:0.152116\n",
      "[235]\tvalidation_0-merror:0.152778\n"
     ]
    },
    {
     "name": "stdout",
     "output_type": "stream",
     "text": [
      "[236]\tvalidation_0-merror:0.152778\n",
      "[237]\tvalidation_0-merror:0.153108\n",
      "[238]\tvalidation_0-merror:0.152778\n",
      "[239]\tvalidation_0-merror:0.152447\n",
      "[240]\tvalidation_0-merror:0.152778\n",
      "[241]\tvalidation_0-merror:0.152447\n",
      "[242]\tvalidation_0-merror:0.152447\n",
      "[243]\tvalidation_0-merror:0.152447\n",
      "[244]\tvalidation_0-merror:0.152447\n",
      "[245]\tvalidation_0-merror:0.152447\n",
      "[246]\tvalidation_0-merror:0.151786\n",
      "[247]\tvalidation_0-merror:0.152116\n",
      "[248]\tvalidation_0-merror:0.152116\n",
      "[249]\tvalidation_0-merror:0.152447\n",
      "[250]\tvalidation_0-merror:0.152116\n",
      "[251]\tvalidation_0-merror:0.152116\n",
      "[252]\tvalidation_0-merror:0.152116\n",
      "[253]\tvalidation_0-merror:0.151455\n",
      "[254]\tvalidation_0-merror:0.151124\n",
      "[255]\tvalidation_0-merror:0.150132\n",
      "[256]\tvalidation_0-merror:0.14914\n",
      "[257]\tvalidation_0-merror:0.14914\n",
      "[258]\tvalidation_0-merror:0.14881\n",
      "[259]\tvalidation_0-merror:0.14914\n",
      "[260]\tvalidation_0-merror:0.14881\n",
      "[261]\tvalidation_0-merror:0.149471\n",
      "[262]\tvalidation_0-merror:0.149471\n",
      "[263]\tvalidation_0-merror:0.149471\n",
      "[264]\tvalidation_0-merror:0.149471\n",
      "[265]\tvalidation_0-merror:0.149471\n",
      "[266]\tvalidation_0-merror:0.148479\n",
      "[267]\tvalidation_0-merror:0.147817\n",
      "[268]\tvalidation_0-merror:0.148148\n",
      "[269]\tvalidation_0-merror:0.146825\n",
      "[270]\tvalidation_0-merror:0.147487\n",
      "[271]\tvalidation_0-merror:0.147156\n",
      "[272]\tvalidation_0-merror:0.147156\n",
      "[273]\tvalidation_0-merror:0.146825\n",
      "[274]\tvalidation_0-merror:0.147817\n",
      "[275]\tvalidation_0-merror:0.146825\n",
      "[276]\tvalidation_0-merror:0.146825\n",
      "[277]\tvalidation_0-merror:0.147817\n",
      "[278]\tvalidation_0-merror:0.146825\n",
      "[279]\tvalidation_0-merror:0.146495\n",
      "[280]\tvalidation_0-merror:0.146164\n",
      "[281]\tvalidation_0-merror:0.145833\n",
      "[282]\tvalidation_0-merror:0.146164\n",
      "[283]\tvalidation_0-merror:0.146495\n",
      "[284]\tvalidation_0-merror:0.145833\n",
      "[285]\tvalidation_0-merror:0.145833\n",
      "[286]\tvalidation_0-merror:0.145833\n",
      "[287]\tvalidation_0-merror:0.146164\n",
      "[288]\tvalidation_0-merror:0.145833\n",
      "[289]\tvalidation_0-merror:0.145503\n",
      "[290]\tvalidation_0-merror:0.145833\n",
      "[291]\tvalidation_0-merror:0.145833\n",
      "[292]\tvalidation_0-merror:0.145172\n",
      "[293]\tvalidation_0-merror:0.145172\n",
      "[294]\tvalidation_0-merror:0.145172\n",
      "[295]\tvalidation_0-merror:0.144511\n",
      "[296]\tvalidation_0-merror:0.14418\n",
      "[297]\tvalidation_0-merror:0.143849\n",
      "[298]\tvalidation_0-merror:0.14418\n",
      "[299]\tvalidation_0-merror:0.143849\n",
      "[300]\tvalidation_0-merror:0.14418\n",
      "[301]\tvalidation_0-merror:0.143519\n",
      "[302]\tvalidation_0-merror:0.143519\n",
      "[303]\tvalidation_0-merror:0.143188\n",
      "[304]\tvalidation_0-merror:0.142526\n",
      "[305]\tvalidation_0-merror:0.141865\n",
      "[306]\tvalidation_0-merror:0.141865\n",
      "[307]\tvalidation_0-merror:0.142196\n",
      "[308]\tvalidation_0-merror:0.141865\n",
      "[309]\tvalidation_0-merror:0.141204\n",
      "[310]\tvalidation_0-merror:0.141204\n",
      "[311]\tvalidation_0-merror:0.141204\n",
      "[312]\tvalidation_0-merror:0.141204\n",
      "[313]\tvalidation_0-merror:0.140873\n",
      "[314]\tvalidation_0-merror:0.141204\n",
      "[315]\tvalidation_0-merror:0.140873\n",
      "[316]\tvalidation_0-merror:0.140873\n",
      "[317]\tvalidation_0-merror:0.141204\n",
      "[318]\tvalidation_0-merror:0.140873\n",
      "[319]\tvalidation_0-merror:0.140873\n",
      "[320]\tvalidation_0-merror:0.140873\n",
      "[321]\tvalidation_0-merror:0.141204\n",
      "[322]\tvalidation_0-merror:0.141204\n",
      "[323]\tvalidation_0-merror:0.140542\n",
      "[324]\tvalidation_0-merror:0.141204\n",
      "[325]\tvalidation_0-merror:0.141534\n",
      "[326]\tvalidation_0-merror:0.141534\n",
      "[327]\tvalidation_0-merror:0.142196\n",
      "[328]\tvalidation_0-merror:0.141204\n",
      "[329]\tvalidation_0-merror:0.141534\n",
      "[330]\tvalidation_0-merror:0.141865\n",
      "[331]\tvalidation_0-merror:0.141204\n",
      "[332]\tvalidation_0-merror:0.141534\n",
      "[333]\tvalidation_0-merror:0.140873\n",
      "[334]\tvalidation_0-merror:0.140542\n",
      "[335]\tvalidation_0-merror:0.141534\n",
      "[336]\tvalidation_0-merror:0.141865\n",
      "[337]\tvalidation_0-merror:0.141204\n",
      "[338]\tvalidation_0-merror:0.141204\n",
      "[339]\tvalidation_0-merror:0.141204\n",
      "[340]\tvalidation_0-merror:0.141534\n",
      "[341]\tvalidation_0-merror:0.140873\n",
      "[342]\tvalidation_0-merror:0.140873\n",
      "[343]\tvalidation_0-merror:0.140542\n",
      "[344]\tvalidation_0-merror:0.140873\n",
      "[345]\tvalidation_0-merror:0.140873\n",
      "[346]\tvalidation_0-merror:0.140542\n",
      "[347]\tvalidation_0-merror:0.140542\n",
      "[348]\tvalidation_0-merror:0.141204\n",
      "[349]\tvalidation_0-merror:0.140873\n"
     ]
    },
    {
     "data": {
      "text/plain": [
       "XGBClassifier(base_score=0.5, colsample_bylevel=1, colsample_bytree=0.85,\n",
       "       gamma=0, learning_rate=0.03, max_delta_step=0, max_depth=7,\n",
       "       min_child_weight=1, missing=None, n_estimators=350, nthread=-1,\n",
       "       objective='multi:softprob', reg_alpha=0, reg_lambda=1,\n",
       "       scale_pos_weight=1, seed=1, silent=True, subsample=0.95)"
      ]
     },
     "execution_count": 36,
     "metadata": {},
     "output_type": "execute_result"
    }
   ],
   "source": [
    "# fitting\n",
    "clf.fit(train_x, train_y,\n",
    "        early_stopping_rounds=40, \n",
    "        eval_metric=\"merror\", eval_set=[(val_x, val_y)])"
   ]
  },
  {
   "cell_type": "code",
   "execution_count": 37,
   "metadata": {
    "scrolled": true
   },
   "outputs": [
    {
     "data": {
      "text/plain": [
       "0.85912698412698407"
      ]
     },
     "execution_count": 37,
     "metadata": {},
     "output_type": "execute_result"
    }
   ],
   "source": [
    "clf.score(val_x, val_y)"
   ]
  },
  {
   "cell_type": "code",
   "execution_count": 39,
   "metadata": {},
   "outputs": [],
   "source": [
    "clf_pred = clf.predict(test)"
   ]
  },
  {
   "cell_type": "markdown",
   "metadata": {},
   "source": [
    "# Submission"
   ]
  },
  {
   "cell_type": "code",
   "execution_count": 40,
   "metadata": {
    "collapsed": true
   },
   "outputs": [],
   "source": [
    "prediction = clf_pred"
   ]
  },
  {
   "cell_type": "code",
   "execution_count": 41,
   "metadata": {
    "collapsed": true
   },
   "outputs": [],
   "source": [
    "submission = pd.DataFrame({\n",
    "        'Id': np.arange(train.shape[0]+1, train.shape[0]+prediction.shape[0]+1),\n",
    "        'Cover_Type': prediction\n",
    "})\n",
    "cols = submission.columns \n",
    "cols = cols[::-1]\n",
    "submission = submission[cols]\n",
    "submission.to_csv('submission/submission_clf.csv', index=False)"
   ]
  },
  {
   "cell_type": "code",
   "execution_count": null,
   "metadata": {
    "collapsed": true
   },
   "outputs": [],
   "source": []
  }
 ],
 "metadata": {
  "kernelspec": {
   "display_name": "Python 3",
   "language": "python",
   "name": "python3"
  },
  "language_info": {
   "codemirror_mode": {
    "name": "ipython",
    "version": 3
   },
   "file_extension": ".py",
   "mimetype": "text/x-python",
   "name": "python",
   "nbconvert_exporter": "python",
   "pygments_lexer": "ipython3",
   "version": "3.6.1"
  }
 },
 "nbformat": 4,
 "nbformat_minor": 2
}
