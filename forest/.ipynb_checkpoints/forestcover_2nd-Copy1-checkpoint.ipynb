{
 "cells": [
  {
   "cell_type": "markdown",
   "metadata": {},
   "source": [
    "# Forest Cover Type Prediction"
   ]
  },
  {
   "cell_type": "code",
   "execution_count": 1,
   "metadata": {},
   "outputs": [
    {
     "name": "stderr",
     "output_type": "stream",
     "text": [
      "/Library/Frameworks/Python.framework/Versions/3.6/lib/python3.6/site-packages/sklearn/cross_validation.py:44: DeprecationWarning: This module was deprecated in version 0.18 in favor of the model_selection module into which all the refactored classes and functions are moved. Also note that the interface of the new CV iterators are different from that of this module. This module will be removed in 0.20.\n",
      "  \"This module will be removed in 0.20.\", DeprecationWarning)\n"
     ]
    }
   ],
   "source": [
    "# Load libraries\n",
    "import pandas as pd\n",
    "import numpy as np\n",
    "import re\n",
    "import sklearn\n",
    "import seaborn as sns\n",
    "import matplotlib.pyplot as plt\n",
    "import xgboost as xgb\n",
    "%matplotlib inline\n",
    "\n",
    "import warnings\n",
    "warnings.filterwarnings('ignore')\n",
    "\n",
    "from sklearn.model_selection import train_test_split\n",
    "from sklearn.model_selection import cross_val_score\n",
    "from sklearn.preprocessing import StandardScaler\n",
    "\n",
    "from sklearn.linear_model import LogisticRegression\n",
    "from sklearn.svm import SVC\n",
    "from sklearn.ensemble import RandomForestClassifier\n",
    "from sklearn.neighbors import KNeighborsClassifier\n",
    "from sklearn.naive_bayes import GaussianNB"
   ]
  },
  {
   "cell_type": "code",
   "execution_count": 2,
   "metadata": {
    "collapsed": true
   },
   "outputs": [],
   "source": [
    "train = pd.read_csv('data/train.csv')\n",
    "test = pd.read_csv('data/test.csv')"
   ]
  },
  {
   "cell_type": "code",
   "execution_count": 3,
   "metadata": {},
   "outputs": [
    {
     "data": {
      "text/html": [
       "<div>\n",
       "<style>\n",
       "    .dataframe thead tr:only-child th {\n",
       "        text-align: right;\n",
       "    }\n",
       "\n",
       "    .dataframe thead th {\n",
       "        text-align: left;\n",
       "    }\n",
       "\n",
       "    .dataframe tbody tr th {\n",
       "        vertical-align: top;\n",
       "    }\n",
       "</style>\n",
       "<table border=\"1\" class=\"dataframe\">\n",
       "  <thead>\n",
       "    <tr style=\"text-align: right;\">\n",
       "      <th></th>\n",
       "      <th>Elevation</th>\n",
       "      <th>Aspect</th>\n",
       "      <th>Slope</th>\n",
       "      <th>Horizontal_Distance_To_Hydrology</th>\n",
       "      <th>Vertical_Distance_To_Hydrology</th>\n",
       "      <th>Horizontal_Distance_To_Roadways</th>\n",
       "      <th>Hillshade_9am</th>\n",
       "      <th>Hillshade_Noon</th>\n",
       "      <th>Hillshade_3pm</th>\n",
       "      <th>Horizontal_Distance_To_Fire_Points</th>\n",
       "      <th>...</th>\n",
       "      <th>Soil_Type32</th>\n",
       "      <th>Soil_Type33</th>\n",
       "      <th>Soil_Type34</th>\n",
       "      <th>Soil_Type35</th>\n",
       "      <th>Soil_Type36</th>\n",
       "      <th>Soil_Type37</th>\n",
       "      <th>Soil_Type38</th>\n",
       "      <th>Soil_Type39</th>\n",
       "      <th>Soil_Type40</th>\n",
       "      <th>Cover_Type</th>\n",
       "    </tr>\n",
       "  </thead>\n",
       "  <tbody>\n",
       "    <tr>\n",
       "      <th>0</th>\n",
       "      <td>2596</td>\n",
       "      <td>51</td>\n",
       "      <td>3</td>\n",
       "      <td>258</td>\n",
       "      <td>0</td>\n",
       "      <td>510</td>\n",
       "      <td>221</td>\n",
       "      <td>232</td>\n",
       "      <td>148</td>\n",
       "      <td>6279</td>\n",
       "      <td>...</td>\n",
       "      <td>0</td>\n",
       "      <td>0</td>\n",
       "      <td>0</td>\n",
       "      <td>0</td>\n",
       "      <td>0</td>\n",
       "      <td>0</td>\n",
       "      <td>0</td>\n",
       "      <td>0</td>\n",
       "      <td>0</td>\n",
       "      <td>5</td>\n",
       "    </tr>\n",
       "    <tr>\n",
       "      <th>1</th>\n",
       "      <td>2590</td>\n",
       "      <td>56</td>\n",
       "      <td>2</td>\n",
       "      <td>212</td>\n",
       "      <td>-6</td>\n",
       "      <td>390</td>\n",
       "      <td>220</td>\n",
       "      <td>235</td>\n",
       "      <td>151</td>\n",
       "      <td>6225</td>\n",
       "      <td>...</td>\n",
       "      <td>0</td>\n",
       "      <td>0</td>\n",
       "      <td>0</td>\n",
       "      <td>0</td>\n",
       "      <td>0</td>\n",
       "      <td>0</td>\n",
       "      <td>0</td>\n",
       "      <td>0</td>\n",
       "      <td>0</td>\n",
       "      <td>5</td>\n",
       "    </tr>\n",
       "    <tr>\n",
       "      <th>2</th>\n",
       "      <td>2804</td>\n",
       "      <td>139</td>\n",
       "      <td>9</td>\n",
       "      <td>268</td>\n",
       "      <td>65</td>\n",
       "      <td>3180</td>\n",
       "      <td>234</td>\n",
       "      <td>238</td>\n",
       "      <td>135</td>\n",
       "      <td>6121</td>\n",
       "      <td>...</td>\n",
       "      <td>0</td>\n",
       "      <td>0</td>\n",
       "      <td>0</td>\n",
       "      <td>0</td>\n",
       "      <td>0</td>\n",
       "      <td>0</td>\n",
       "      <td>0</td>\n",
       "      <td>0</td>\n",
       "      <td>0</td>\n",
       "      <td>2</td>\n",
       "    </tr>\n",
       "    <tr>\n",
       "      <th>3</th>\n",
       "      <td>2785</td>\n",
       "      <td>155</td>\n",
       "      <td>18</td>\n",
       "      <td>242</td>\n",
       "      <td>118</td>\n",
       "      <td>3090</td>\n",
       "      <td>238</td>\n",
       "      <td>238</td>\n",
       "      <td>122</td>\n",
       "      <td>6211</td>\n",
       "      <td>...</td>\n",
       "      <td>0</td>\n",
       "      <td>0</td>\n",
       "      <td>0</td>\n",
       "      <td>0</td>\n",
       "      <td>0</td>\n",
       "      <td>0</td>\n",
       "      <td>0</td>\n",
       "      <td>0</td>\n",
       "      <td>0</td>\n",
       "      <td>2</td>\n",
       "    </tr>\n",
       "    <tr>\n",
       "      <th>4</th>\n",
       "      <td>2595</td>\n",
       "      <td>45</td>\n",
       "      <td>2</td>\n",
       "      <td>153</td>\n",
       "      <td>-1</td>\n",
       "      <td>391</td>\n",
       "      <td>220</td>\n",
       "      <td>234</td>\n",
       "      <td>150</td>\n",
       "      <td>6172</td>\n",
       "      <td>...</td>\n",
       "      <td>0</td>\n",
       "      <td>0</td>\n",
       "      <td>0</td>\n",
       "      <td>0</td>\n",
       "      <td>0</td>\n",
       "      <td>0</td>\n",
       "      <td>0</td>\n",
       "      <td>0</td>\n",
       "      <td>0</td>\n",
       "      <td>5</td>\n",
       "    </tr>\n",
       "  </tbody>\n",
       "</table>\n",
       "<p>5 rows × 55 columns</p>\n",
       "</div>"
      ],
      "text/plain": [
       "   Elevation  Aspect  Slope  Horizontal_Distance_To_Hydrology  \\\n",
       "0       2596      51      3                               258   \n",
       "1       2590      56      2                               212   \n",
       "2       2804     139      9                               268   \n",
       "3       2785     155     18                               242   \n",
       "4       2595      45      2                               153   \n",
       "\n",
       "   Vertical_Distance_To_Hydrology  Horizontal_Distance_To_Roadways  \\\n",
       "0                               0                              510   \n",
       "1                              -6                              390   \n",
       "2                              65                             3180   \n",
       "3                             118                             3090   \n",
       "4                              -1                              391   \n",
       "\n",
       "   Hillshade_9am  Hillshade_Noon  Hillshade_3pm  \\\n",
       "0            221             232            148   \n",
       "1            220             235            151   \n",
       "2            234             238            135   \n",
       "3            238             238            122   \n",
       "4            220             234            150   \n",
       "\n",
       "   Horizontal_Distance_To_Fire_Points     ...      Soil_Type32  Soil_Type33  \\\n",
       "0                                6279     ...                0            0   \n",
       "1                                6225     ...                0            0   \n",
       "2                                6121     ...                0            0   \n",
       "3                                6211     ...                0            0   \n",
       "4                                6172     ...                0            0   \n",
       "\n",
       "   Soil_Type34  Soil_Type35  Soil_Type36  Soil_Type37  Soil_Type38  \\\n",
       "0            0            0            0            0            0   \n",
       "1            0            0            0            0            0   \n",
       "2            0            0            0            0            0   \n",
       "3            0            0            0            0            0   \n",
       "4            0            0            0            0            0   \n",
       "\n",
       "   Soil_Type39  Soil_Type40  Cover_Type  \n",
       "0            0            0           5  \n",
       "1            0            0           5  \n",
       "2            0            0           2  \n",
       "3            0            0           2  \n",
       "4            0            0           5  \n",
       "\n",
       "[5 rows x 55 columns]"
      ]
     },
     "execution_count": 3,
     "metadata": {},
     "output_type": "execute_result"
    }
   ],
   "source": [
    "train = train.iloc[:,1:]\n",
    "test = test.iloc[:,1:]\n",
    "train.head()"
   ]
  },
  {
   "cell_type": "code",
   "execution_count": 4,
   "metadata": {
    "scrolled": true
   },
   "outputs": [
    {
     "name": "stdout",
     "output_type": "stream",
     "text": [
      "<class 'pandas.core.frame.DataFrame'>\n",
      "RangeIndex: 15120 entries, 0 to 15119\n",
      "Data columns (total 55 columns):\n",
      "Elevation                             15120 non-null int64\n",
      "Aspect                                15120 non-null int64\n",
      "Slope                                 15120 non-null int64\n",
      "Horizontal_Distance_To_Hydrology      15120 non-null int64\n",
      "Vertical_Distance_To_Hydrology        15120 non-null int64\n",
      "Horizontal_Distance_To_Roadways       15120 non-null int64\n",
      "Hillshade_9am                         15120 non-null int64\n",
      "Hillshade_Noon                        15120 non-null int64\n",
      "Hillshade_3pm                         15120 non-null int64\n",
      "Horizontal_Distance_To_Fire_Points    15120 non-null int64\n",
      "Wilderness_Area1                      15120 non-null int64\n",
      "Wilderness_Area2                      15120 non-null int64\n",
      "Wilderness_Area3                      15120 non-null int64\n",
      "Wilderness_Area4                      15120 non-null int64\n",
      "Soil_Type1                            15120 non-null int64\n",
      "Soil_Type2                            15120 non-null int64\n",
      "Soil_Type3                            15120 non-null int64\n",
      "Soil_Type4                            15120 non-null int64\n",
      "Soil_Type5                            15120 non-null int64\n",
      "Soil_Type6                            15120 non-null int64\n",
      "Soil_Type7                            15120 non-null int64\n",
      "Soil_Type8                            15120 non-null int64\n",
      "Soil_Type9                            15120 non-null int64\n",
      "Soil_Type10                           15120 non-null int64\n",
      "Soil_Type11                           15120 non-null int64\n",
      "Soil_Type12                           15120 non-null int64\n",
      "Soil_Type13                           15120 non-null int64\n",
      "Soil_Type14                           15120 non-null int64\n",
      "Soil_Type15                           15120 non-null int64\n",
      "Soil_Type16                           15120 non-null int64\n",
      "Soil_Type17                           15120 non-null int64\n",
      "Soil_Type18                           15120 non-null int64\n",
      "Soil_Type19                           15120 non-null int64\n",
      "Soil_Type20                           15120 non-null int64\n",
      "Soil_Type21                           15120 non-null int64\n",
      "Soil_Type22                           15120 non-null int64\n",
      "Soil_Type23                           15120 non-null int64\n",
      "Soil_Type24                           15120 non-null int64\n",
      "Soil_Type25                           15120 non-null int64\n",
      "Soil_Type26                           15120 non-null int64\n",
      "Soil_Type27                           15120 non-null int64\n",
      "Soil_Type28                           15120 non-null int64\n",
      "Soil_Type29                           15120 non-null int64\n",
      "Soil_Type30                           15120 non-null int64\n",
      "Soil_Type31                           15120 non-null int64\n",
      "Soil_Type32                           15120 non-null int64\n",
      "Soil_Type33                           15120 non-null int64\n",
      "Soil_Type34                           15120 non-null int64\n",
      "Soil_Type35                           15120 non-null int64\n",
      "Soil_Type36                           15120 non-null int64\n",
      "Soil_Type37                           15120 non-null int64\n",
      "Soil_Type38                           15120 non-null int64\n",
      "Soil_Type39                           15120 non-null int64\n",
      "Soil_Type40                           15120 non-null int64\n",
      "Cover_Type                            15120 non-null int64\n",
      "dtypes: int64(55)\n",
      "memory usage: 6.3 MB\n"
     ]
    }
   ],
   "source": [
    "train.info()"
   ]
  },
  {
   "cell_type": "code",
   "execution_count": 5,
   "metadata": {
    "collapsed": true
   },
   "outputs": [
    {
     "name": "stdout",
     "output_type": "stream",
     "text": [
      "<class 'pandas.core.frame.DataFrame'>\n",
      "RangeIndex: 565892 entries, 0 to 565891\n",
      "Data columns (total 54 columns):\n",
      "Elevation                             565892 non-null int64\n",
      "Aspect                                565892 non-null int64\n",
      "Slope                                 565892 non-null int64\n",
      "Horizontal_Distance_To_Hydrology      565892 non-null int64\n",
      "Vertical_Distance_To_Hydrology        565892 non-null int64\n",
      "Horizontal_Distance_To_Roadways       565892 non-null int64\n",
      "Hillshade_9am                         565892 non-null int64\n",
      "Hillshade_Noon                        565892 non-null int64\n",
      "Hillshade_3pm                         565892 non-null int64\n",
      "Horizontal_Distance_To_Fire_Points    565892 non-null int64\n",
      "Wilderness_Area1                      565892 non-null int64\n",
      "Wilderness_Area2                      565892 non-null int64\n",
      "Wilderness_Area3                      565892 non-null int64\n",
      "Wilderness_Area4                      565892 non-null int64\n",
      "Soil_Type1                            565892 non-null int64\n",
      "Soil_Type2                            565892 non-null int64\n",
      "Soil_Type3                            565892 non-null int64\n",
      "Soil_Type4                            565892 non-null int64\n",
      "Soil_Type5                            565892 non-null int64\n",
      "Soil_Type6                            565892 non-null int64\n",
      "Soil_Type7                            565892 non-null int64\n",
      "Soil_Type8                            565892 non-null int64\n",
      "Soil_Type9                            565892 non-null int64\n",
      "Soil_Type10                           565892 non-null int64\n",
      "Soil_Type11                           565892 non-null int64\n",
      "Soil_Type12                           565892 non-null int64\n",
      "Soil_Type13                           565892 non-null int64\n",
      "Soil_Type14                           565892 non-null int64\n",
      "Soil_Type15                           565892 non-null int64\n",
      "Soil_Type16                           565892 non-null int64\n",
      "Soil_Type17                           565892 non-null int64\n",
      "Soil_Type18                           565892 non-null int64\n",
      "Soil_Type19                           565892 non-null int64\n",
      "Soil_Type20                           565892 non-null int64\n",
      "Soil_Type21                           565892 non-null int64\n",
      "Soil_Type22                           565892 non-null int64\n",
      "Soil_Type23                           565892 non-null int64\n",
      "Soil_Type24                           565892 non-null int64\n",
      "Soil_Type25                           565892 non-null int64\n",
      "Soil_Type26                           565892 non-null int64\n",
      "Soil_Type27                           565892 non-null int64\n",
      "Soil_Type28                           565892 non-null int64\n",
      "Soil_Type29                           565892 non-null int64\n",
      "Soil_Type30                           565892 non-null int64\n",
      "Soil_Type31                           565892 non-null int64\n",
      "Soil_Type32                           565892 non-null int64\n",
      "Soil_Type33                           565892 non-null int64\n",
      "Soil_Type34                           565892 non-null int64\n",
      "Soil_Type35                           565892 non-null int64\n",
      "Soil_Type36                           565892 non-null int64\n",
      "Soil_Type37                           565892 non-null int64\n",
      "Soil_Type38                           565892 non-null int64\n",
      "Soil_Type39                           565892 non-null int64\n",
      "Soil_Type40                           565892 non-null int64\n",
      "dtypes: int64(54)\n",
      "memory usage: 233.1 MB\n"
     ]
    }
   ],
   "source": [
    "test.info()"
   ]
  },
  {
   "cell_type": "markdown",
   "metadata": {},
   "source": [
    "1. Test data is much bigger than train data\n",
    "2. There is no missing value"
   ]
  },
  {
   "cell_type": "code",
   "execution_count": 6,
   "metadata": {
    "collapsed": true
   },
   "outputs": [],
   "source": [
    "# split train data into train & validation data\n",
    "# x_train = train.iloc[:,:-1]\n",
    "# y_train = train.iloc[:,-1]\n",
    "# x_test = test\n",
    "dataset = [train, test]\n",
    "\n",
    "nb_classes = y_train.max()\n",
    "training_samples = x_train.shape[0]"
   ]
  },
  {
   "cell_type": "code",
   "execution_count": 7,
   "metadata": {},
   "outputs": [
    {
     "data": {
      "text/plain": [
       "<matplotlib.axes._subplots.AxesSubplot at 0x114400390>"
      ]
     },
     "execution_count": 7,
     "metadata": {},
     "output_type": "execute_result"
    },
    {
     "data": {
      "image/png": "[encoded data removed]",
      "text/plain": [
       "<matplotlib.figure.Figure at 0x107b04cc0>"
      ]
     },
     "metadata": {},
     "output_type": "display_data"
    }
   ],
   "source": [
    "sns.distplot(y_train, kde=False)\n",
    "# the numbers of labels are same"
   ]
  },
  {
   "cell_type": "code",
   "execution_count": 8,
   "metadata": {
    "collapsed": true
   },
   "outputs": [],
   "source": [
    "# numbers of quantative features\n",
    "nb_quantative = 10\n",
    "quantative = list(train.columns[:nb_quantative])\n",
    "qualitative = list(train.columns[nb_quantative:])"
   ]
  },
  {
   "cell_type": "code",
   "execution_count": 9,
   "metadata": {},
   "outputs": [
    {
     "data": {
      "image/png": "[encoded data removed]",
      "text/plain": [
       "<matplotlib.figure.Figure at 0x105d11eb8>"
      ]
     },
     "metadata": {},
     "output_type": "display_data"
    }
   ],
   "source": [
    "fig, axis = plt.subplots(2,5, figsize=(15,6))\n",
    "fig.subplots_adjust(hspace = .5, wspace=0.5)\n",
    "axis = axis.ravel()\n",
    "\n",
    "for idx, col in enumerate(quantative):\n",
    "    axis[idx].hist(x=train[col], bins=15)\n",
    "    axis[idx].set_title(col)"
   ]
  },
  {
   "cell_type": "markdown",
   "metadata": {},
   "source": [
    "Elevation, Slope, Hillshade_3pm : Gaussian distribution\n",
    "Some Horizontal Distance features are quadratic\n",
    "Vertical Distance To Hydrology values can be negative"
   ]
  },
  {
   "cell_type": "code",
   "execution_count": 10,
   "metadata": {},
   "outputs": [
    {
     "data": {
      "text/plain": [
       "<seaborn.axisgrid.FacetGrid at 0x114528f98>"
      ]
     },
     "execution_count": 10,
     "metadata": {},
     "output_type": "execute_result"
    },
    {
     "data": {
      "image/png": "[encoded data removed]",
      "text/plain": [
       "<matplotlib.figure.Figure at 0x1145374a8>"
      ]
     },
     "metadata": {},
     "output_type": "display_data"
    }
   ],
   "source": [
    "# new feature : Is hydrology below the forest?\n",
    "for data in dataset:\n",
    "    data['Is_Water_Below'] = data.apply(\n",
    "        lambda x: 1 if x['Vertical_Distance_To_Hydrology'] < 0 else 0, axis=1)\n",
    "sns.factorplot(x='Cover_Type',y='Is_Water_Below',data=train)"
   ]
  },
  {
   "cell_type": "code",
   "execution_count": 11,
   "metadata": {
    "collapsed": true
   },
   "outputs": [],
   "source": [
    "# new feature : distance to hydrology\n",
    "for data in dataset:\n",
    "    data['Distance_To_Hydrology'] = np.sqrt(data['Horizontal_Distance_To_Hydrology']**2\n",
    "                            + data['Vertical_Distance_To_Hydrology']**2)"
   ]
  },
  {
   "cell_type": "code",
   "execution_count": 12,
   "metadata": {},
   "outputs": [
    {
     "data": {
      "text/plain": [
       "['Elevation',\n",
       " 'Aspect',\n",
       " 'Slope',\n",
       " 'Horizontal_Distance_To_Hydrology',\n",
       " 'Vertical_Distance_To_Hydrology',\n",
       " 'Horizontal_Distance_To_Roadways',\n",
       " 'Hillshade_9am',\n",
       " 'Hillshade_Noon',\n",
       " 'Hillshade_3pm',\n",
       " 'Horizontal_Distance_To_Fire_Points']"
      ]
     },
     "execution_count": 12,
     "metadata": {},
     "output_type": "execute_result"
    }
   ],
   "source": [
    "quantative"
   ]
  },
  {
   "cell_type": "code",
   "execution_count": 13,
   "metadata": {
    "collapsed": true
   },
   "outputs": [],
   "source": [
    "# new feature : sum of two distance factors and absolute difference\n",
    "for data in dataset:\n",
    "    data['Elev_Horz_Hydro_Sum'] = data['Elevation'] + data['Horizontal_Distance_To_Hydrology']\n",
    "    data['Elev_Horz_Hydro_Diff'] = np.abs(data['Elevation'] - data['Horizontal_Distance_To_Hydrology'])\n",
    "    data['Elev_Vert_Hydro_Sum'] = data['Elevation'] + data['Vertical_Distance_To_Hydrology']\n",
    "    data['Elev_Vert_Hydro_Diff'] = np.abs(data['Elevation'] - data['Vertical_Distance_To_Hydrology'])\n",
    "    \n",
    "    data['Fire_Road_Sum'] = data['Horizontal_Distance_To_Fire_Points'] + data['Horizontal_Distance_To_Roadways']\n",
    "    data['Fire_Road_Diff'] = np.abs(data['Horizontal_Distance_To_Fire_Points'] -\n",
    "                                    data['Horizontal_Distance_To_Roadways'])\n",
    "    \n",
    "    data['Hydro_Road_Sum'] = data['Horizontal_Distance_To_Hydrology'] + data['Horizontal_Distance_To_Roadways']\n",
    "    data['Hydro_Road_Diff'] = np.abs(data['Horizontal_Distance_To_Hydrology'] -\n",
    "                                     data['Horizontal_Distance_To_Hydrology'])\n",
    "    \n",
    "    data['Hydro_Fire_Sum'] = data['Horizontal_Distance_To_Hydrology'] + \\\n",
    "                             data['Horizontal_Distance_To_Fire_Points']\n",
    "    data['Hydro_Fire_Diff'] = np.abs(data['Horizontal_Distance_To_Hydrology'] - \\\n",
    "                                     data['Horizontal_Distance_To_Fire_Points'])"
   ]
  },
  {
   "cell_type": "code",
   "execution_count": 14,
   "metadata": {
    "collapsed": true
   },
   "outputs": [],
   "source": [
    "# feature processing : sqrt of quadratic features\n",
    "quadratic_features = ['Horizontal_Distance_To_Hydrology', 'Horizontal_Distance_To_Roadways',\n",
    "                      'Hillshade_9am', 'Hillshade_Noon', 'Horizontal_Distance_To_Fire_Points',\n",
    "                    'Distance_To_Hydrology', 'Fire_Road_Sum', 'Fire_Road_Diff',\n",
    "                      'Hydro_Road_Sum', 'Hydro_Fire_Sum', 'Hydro_Fire_Diff']\n",
    "for col in quadratic_features:\n",
    "    for data in dataset:\n",
    "        data[col] = np.sqrt(data[col])"
   ]
  },
  {
   "cell_type": "code",
   "execution_count": 15,
   "metadata": {
    "collapsed": true
   },
   "outputs": [],
   "source": [
    "ref_index = list(train.columns).index('Distance_To_Hydrology')\n",
    "new_quantative = list(train.columns[ref_index:])\n",
    "quantative += new_quantative"
   ]
  },
  {
   "cell_type": "code",
   "execution_count": 16,
   "metadata": {
    "scrolled": false
   },
   "outputs": [
    {
     "data": {
      "image/png": "[encoded data removed]",
      "text/plain": [
       "<matplotlib.figure.Figure at 0x114ca0cc0>"
      ]
     },
     "metadata": {},
     "output_type": "display_data"
    }
   ],
   "source": [
    "fig, axis = plt.subplots(2, 6, figsize=(15,6))\n",
    "axis = axis.ravel()\n",
    "for idx, col in enumerate(new_quantative):\n",
    "    axis[idx].hist(train[col])\n",
    "    axis[idx].set_title(col)"
   ]
  },
  {
   "cell_type": "code",
   "execution_count": 17,
   "metadata": {
    "collapsed": true
   },
   "outputs": [],
   "source": [
    "# drop the constant columns\n",
    "cols_constant = [col for col in train.columns if train[col].std() == 0]\n",
    "for data in dataset:\n",
    "    data.drop(cols_constant, axis=1, inplace=True)"
   ]
  },
  {
   "cell_type": "code",
   "execution_count": 18,
   "metadata": {},
   "outputs": [
    {
     "data": {
      "text/plain": [
       "64"
      ]
     },
     "execution_count": 18,
     "metadata": {},
     "output_type": "execute_result"
    }
   ],
   "source": [
    "len(list(train.columns))"
   ]
  },
  {
   "cell_type": "code",
   "execution_count": 19,
   "metadata": {},
   "outputs": [
    {
     "ename": "KeyError",
     "evalue": "'Column not found: Soil_Type7'",
     "output_type": "error",
     "traceback": [
      "\u001b[0;31m---------------------------------------------------------------------------\u001b[0m",
      "\u001b[0;31mKeyError\u001b[0m                                  Traceback (most recent call last)",
      "\u001b[0;32m<ipython-input-19-06edba6ef493>\u001b[0m in \u001b[0;36m<module>\u001b[0;34m()\u001b[0m\n\u001b[1;32m      3\u001b[0m \u001b[0;32mfor\u001b[0m \u001b[0midx\u001b[0m\u001b[0;34m,\u001b[0m \u001b[0mcol\u001b[0m \u001b[0;32min\u001b[0m \u001b[0menumerate\u001b[0m\u001b[0;34m(\u001b[0m\u001b[0mqualitative\u001b[0m\u001b[0;34m)\u001b[0m\u001b[0;34m:\u001b[0m\u001b[0;34m\u001b[0m\u001b[0m\n\u001b[1;32m      4\u001b[0m     df_temp = pd.DataFrame({\n\u001b[0;32m----> 5\u001b[0;31m         \u001b[0mcol\u001b[0m \u001b[0;34m:\u001b[0m \u001b[0mtrain\u001b[0m\u001b[0;34m.\u001b[0m\u001b[0mgroupby\u001b[0m\u001b[0;34m(\u001b[0m\u001b[0;34m'Cover_Type'\u001b[0m\u001b[0;34m)\u001b[0m\u001b[0;34m[\u001b[0m\u001b[0mcol\u001b[0m\u001b[0;34m]\u001b[0m\u001b[0;34m.\u001b[0m\u001b[0msum\u001b[0m\u001b[0;34m(\u001b[0m\u001b[0;34m)\u001b[0m\u001b[0;34m.\u001b[0m\u001b[0mvalues\u001b[0m\u001b[0;34m,\u001b[0m\u001b[0;34m\u001b[0m\u001b[0m\n\u001b[0m\u001b[1;32m      6\u001b[0m         \u001b[0;34m'Cover_Type'\u001b[0m \u001b[0;34m:\u001b[0m \u001b[0mnp\u001b[0m\u001b[0;34m.\u001b[0m\u001b[0marange\u001b[0m\u001b[0;34m(\u001b[0m\u001b[0mnb_classes\u001b[0m\u001b[0;34m)\u001b[0m \u001b[0;34m+\u001b[0m \u001b[0;36m1\u001b[0m\u001b[0;34m\u001b[0m\u001b[0m\n\u001b[1;32m      7\u001b[0m     })\n",
      "\u001b[0;32m/Library/Frameworks/Python.framework/Versions/3.6/lib/python3.6/site-packages/pandas/core/base.py\u001b[0m in \u001b[0;36m__getitem__\u001b[0;34m(self, key)\u001b[0m\n\u001b[1;32m    352\u001b[0m         \u001b[0;32melse\u001b[0m\u001b[0;34m:\u001b[0m\u001b[0;34m\u001b[0m\u001b[0m\n\u001b[1;32m    353\u001b[0m             \u001b[0;32mif\u001b[0m \u001b[0mkey\u001b[0m \u001b[0;32mnot\u001b[0m \u001b[0;32min\u001b[0m \u001b[0mself\u001b[0m\u001b[0;34m.\u001b[0m\u001b[0mobj\u001b[0m\u001b[0;34m:\u001b[0m\u001b[0;34m\u001b[0m\u001b[0m\n\u001b[0;32m--> 354\u001b[0;31m                 \u001b[0;32mraise\u001b[0m \u001b[0mKeyError\u001b[0m\u001b[0;34m(\u001b[0m\u001b[0;34m\"Column not found: %s\"\u001b[0m \u001b[0;34m%\u001b[0m \u001b[0mkey\u001b[0m\u001b[0;34m)\u001b[0m\u001b[0;34m\u001b[0m\u001b[0m\n\u001b[0m\u001b[1;32m    355\u001b[0m             \u001b[0;32mreturn\u001b[0m \u001b[0mself\u001b[0m\u001b[0;34m.\u001b[0m\u001b[0m_gotitem\u001b[0m\u001b[0;34m(\u001b[0m\u001b[0mkey\u001b[0m\u001b[0;34m,\u001b[0m \u001b[0mndim\u001b[0m\u001b[0;34m=\u001b[0m\u001b[0;36m1\u001b[0m\u001b[0;34m)\u001b[0m\u001b[0;34m\u001b[0m\u001b[0m\n\u001b[1;32m    356\u001b[0m \u001b[0;34m\u001b[0m\u001b[0m\n",
      "\u001b[0;31mKeyError\u001b[0m: 'Column not found: Soil_Type7'"
     ]
    },
    {
     "data": {
      "text/plain": [
       "<matplotlib.figure.Figure at 0x11b89ceb8>"
      ]
     },
     "metadata": {},
     "output_type": "display_data"
    },
    {
     "data": {
      "image/png": "[encoded data removed]",
      "text/plain": [
       "<matplotlib.figure.Figure at 0x11b8e0940>"
      ]
     },
     "metadata": {},
     "output_type": "display_data"
    },
    {
     "data": {
      "image/png": "[encoded data removed]",
      "text/plain": [
       "<matplotlib.figure.Figure at 0x11b8e0a90>"
      ]
     },
     "metadata": {},
     "output_type": "display_data"
    },
    {
     "data": {
      "image/png": "[encoded data removed]",
      "text/plain": [
       "<matplotlib.figure.Figure at 0x11b8acf98>"
      ]
     },
     "metadata": {},
     "output_type": "display_data"
    },
    {
     "data": {
      "image/png": "[encoded data removed]",
      "text/plain": [
       "<matplotlib.figure.Figure at 0x112cc5e48>"
      ]
     },
     "metadata": {},
     "output_type": "display_data"
    },
    {
     "data": {
      "image/png": "[encoded data removed]",
      "text/plain": [
       "<matplotlib.figure.Figure at 0x11466c780>"
      ]
     },
     "metadata": {},
     "output_type": "display_data"
    },
    {
     "data": {
      "image/png": "[encoded data removed]",
      "text/plain": [
       "<matplotlib.figure.Figure at 0x114652400>"
      ]
     },
     "metadata": {},
     "output_type": "display_data"
    },
    {
     "data": {
      "image/png": "[encoded data removed]",
      "text/plain": [
       "<matplotlib.figure.Figure at 0x1145a4828>"
      ]
     },
     "metadata": {},
     "output_type": "display_data"
    },
    {
     "data": {
      "image/png": "[encoded data removed]",
      "text/plain": [
       "<matplotlib.figure.Figure at 0x1144dc358>"
      ]
     },
     "metadata": {},
     "output_type": "display_data"
    },
    {
     "data": {
      "image/png": "[encoded data removed]",
      "text/plain": [
       "<matplotlib.figure.Figure at 0x112c807f0>"
      ]
     },
     "metadata": {},
     "output_type": "display_data"
    },
    {
     "data": {
      "image/png": "[encoded data removed]",
      "text/plain": [
       "<matplotlib.figure.Figure at 0x112dc9a58>"
      ]
     },
     "metadata": {},
     "output_type": "display_data"
    }
   ],
   "source": [
    "# # count plot\n",
    "# uselesscols = []\n",
    "# for idx, col in enumerate(qualitative):\n",
    "#     df_temp = pd.DataFrame({\n",
    "#         col : train.groupby('Cover_Type')[col].sum().values,\n",
    "#         'Cover_Type' : np.arange(nb_classes) + 1\n",
    "#     })\n",
    "#     plt.figure(idx+1)\n",
    "#     sns.factorplot(x='Cover_Type',y=col,kind='bar', data=df_temp)\n",
    "#     # I'll regard Cover_Type column as uesless column\n",
    "#     # if its sum is less than 0.5 % of training_samples\n",
    "#     if df_temp[col].sum() < 0.0005 * training_samples:\n",
    "#         uselesscols.append(col)"
   ]
  },
  {
   "cell_type": "code",
   "execution_count": 13,
   "metadata": {},
   "outputs": [
    {
     "data": {
      "text/plain": [
       "['Soil_Type8',\n",
       " 'Soil_Type9',\n",
       " 'Soil_Type18',\n",
       " 'Soil_Type19',\n",
       " 'Soil_Type21',\n",
       " 'Soil_Type25',\n",
       " 'Soil_Type26',\n",
       " 'Soil_Type27',\n",
       " 'Soil_Type28',\n",
       " 'Soil_Type34',\n",
       " 'Soil_Type36',\n",
       " 'Soil_Type37']"
      ]
     },
     "execution_count": 13,
     "metadata": {},
     "output_type": "execute_result"
    }
   ],
   "source": [
    "# uselesscols"
   ]
  },
  {
   "cell_type": "code",
   "execution_count": 14,
   "metadata": {
    "collapsed": true
   },
   "outputs": [],
   "source": [
    "# for data in dataset:\n",
    "#     data.drop(uselesscols, axis=1, inplace=True)"
   ]
  },
  {
   "cell_type": "code",
   "execution_count": 20,
   "metadata": {},
   "outputs": [
    {
     "ename": "KeyError",
     "evalue": "\"['Distance_To_Hydrology' 'Elev_Horz_Hydro_Sum' 'Elev_Horz_Hydro_Diff'\\n 'Elev_Vert_Hydro_Sum' 'Elev_Vert_Hydro_Diff' 'Fire_Road_Sum'\\n 'Fire_Road_Diff' 'Hydro_Road_Sum' 'Hydro_Road_Diff' 'Hydro_Fire_Sum'\\n 'Hydro_Fire_Diff'] not in index\"",
     "output_type": "error",
     "traceback": [
      "\u001b[0;31m---------------------------------------------------------------------------\u001b[0m",
      "\u001b[0;31mKeyError\u001b[0m                                  Traceback (most recent call last)",
      "\u001b[0;32m<ipython-input-20-70099da11af9>\u001b[0m in \u001b[0;36m<module>\u001b[0;34m()\u001b[0m\n\u001b[1;32m      1\u001b[0m \u001b[0;31m# Standardization\u001b[0m\u001b[0;34m\u001b[0m\u001b[0;34m\u001b[0m\u001b[0m\n\u001b[1;32m      2\u001b[0m \u001b[0msc\u001b[0m \u001b[0;34m=\u001b[0m \u001b[0mStandardScaler\u001b[0m\u001b[0;34m(\u001b[0m\u001b[0;34m)\u001b[0m\u001b[0;34m\u001b[0m\u001b[0m\n\u001b[0;32m----> 3\u001b[0;31m \u001b[0msc\u001b[0m\u001b[0;34m.\u001b[0m\u001b[0mfit\u001b[0m\u001b[0;34m(\u001b[0m\u001b[0mx_train\u001b[0m\u001b[0;34m[\u001b[0m\u001b[0mquantative\u001b[0m\u001b[0;34m]\u001b[0m\u001b[0;34m)\u001b[0m\u001b[0;34m\u001b[0m\u001b[0m\n\u001b[0m\u001b[1;32m      4\u001b[0m \u001b[0;32mfor\u001b[0m \u001b[0mdata\u001b[0m \u001b[0;32min\u001b[0m \u001b[0mdataset\u001b[0m\u001b[0;34m:\u001b[0m\u001b[0;34m\u001b[0m\u001b[0m\n\u001b[1;32m      5\u001b[0m     \u001b[0mdata\u001b[0m\u001b[0;34m[\u001b[0m\u001b[0mquantative\u001b[0m\u001b[0;34m]\u001b[0m \u001b[0;34m=\u001b[0m \u001b[0msc\u001b[0m\u001b[0;34m.\u001b[0m\u001b[0mtransform\u001b[0m\u001b[0;34m(\u001b[0m\u001b[0mdata\u001b[0m\u001b[0;34m[\u001b[0m\u001b[0mquantative\u001b[0m\u001b[0;34m]\u001b[0m\u001b[0;34m)\u001b[0m\u001b[0;34m\u001b[0m\u001b[0m\n",
      "\u001b[0;32m/Library/Frameworks/Python.framework/Versions/3.6/lib/python3.6/site-packages/pandas/core/frame.py\u001b[0m in \u001b[0;36m__getitem__\u001b[0;34m(self, key)\u001b[0m\n\u001b[1;32m   1956\u001b[0m         \u001b[0;32mif\u001b[0m \u001b[0misinstance\u001b[0m\u001b[0;34m(\u001b[0m\u001b[0mkey\u001b[0m\u001b[0;34m,\u001b[0m \u001b[0;34m(\u001b[0m\u001b[0mSeries\u001b[0m\u001b[0;34m,\u001b[0m \u001b[0mnp\u001b[0m\u001b[0;34m.\u001b[0m\u001b[0mndarray\u001b[0m\u001b[0;34m,\u001b[0m \u001b[0mIndex\u001b[0m\u001b[0;34m,\u001b[0m \u001b[0mlist\u001b[0m\u001b[0;34m)\u001b[0m\u001b[0;34m)\u001b[0m\u001b[0;34m:\u001b[0m\u001b[0;34m\u001b[0m\u001b[0m\n\u001b[1;32m   1957\u001b[0m             \u001b[0;31m# either boolean or fancy integer index\u001b[0m\u001b[0;34m\u001b[0m\u001b[0;34m\u001b[0m\u001b[0m\n\u001b[0;32m-> 1958\u001b[0;31m             \u001b[0;32mreturn\u001b[0m \u001b[0mself\u001b[0m\u001b[0;34m.\u001b[0m\u001b[0m_getitem_array\u001b[0m\u001b[0;34m(\u001b[0m\u001b[0mkey\u001b[0m\u001b[0;34m)\u001b[0m\u001b[0;34m\u001b[0m\u001b[0m\n\u001b[0m\u001b[1;32m   1959\u001b[0m         \u001b[0;32melif\u001b[0m \u001b[0misinstance\u001b[0m\u001b[0;34m(\u001b[0m\u001b[0mkey\u001b[0m\u001b[0;34m,\u001b[0m \u001b[0mDataFrame\u001b[0m\u001b[0;34m)\u001b[0m\u001b[0;34m:\u001b[0m\u001b[0;34m\u001b[0m\u001b[0m\n\u001b[1;32m   1960\u001b[0m             \u001b[0;32mreturn\u001b[0m \u001b[0mself\u001b[0m\u001b[0;34m.\u001b[0m\u001b[0m_getitem_frame\u001b[0m\u001b[0;34m(\u001b[0m\u001b[0mkey\u001b[0m\u001b[0;34m)\u001b[0m\u001b[0;34m\u001b[0m\u001b[0m\n",
      "\u001b[0;32m/Library/Frameworks/Python.framework/Versions/3.6/lib/python3.6/site-packages/pandas/core/frame.py\u001b[0m in \u001b[0;36m_getitem_array\u001b[0;34m(self, key)\u001b[0m\n\u001b[1;32m   2000\u001b[0m             \u001b[0;32mreturn\u001b[0m \u001b[0mself\u001b[0m\u001b[0;34m.\u001b[0m\u001b[0mtake\u001b[0m\u001b[0;34m(\u001b[0m\u001b[0mindexer\u001b[0m\u001b[0;34m,\u001b[0m \u001b[0maxis\u001b[0m\u001b[0;34m=\u001b[0m\u001b[0;36m0\u001b[0m\u001b[0;34m,\u001b[0m \u001b[0mconvert\u001b[0m\u001b[0;34m=\u001b[0m\u001b[0;32mFalse\u001b[0m\u001b[0;34m)\u001b[0m\u001b[0;34m\u001b[0m\u001b[0m\n\u001b[1;32m   2001\u001b[0m         \u001b[0;32melse\u001b[0m\u001b[0;34m:\u001b[0m\u001b[0;34m\u001b[0m\u001b[0m\n\u001b[0;32m-> 2002\u001b[0;31m             \u001b[0mindexer\u001b[0m \u001b[0;34m=\u001b[0m \u001b[0mself\u001b[0m\u001b[0;34m.\u001b[0m\u001b[0mloc\u001b[0m\u001b[0;34m.\u001b[0m\u001b[0m_convert_to_indexer\u001b[0m\u001b[0;34m(\u001b[0m\u001b[0mkey\u001b[0m\u001b[0;34m,\u001b[0m \u001b[0maxis\u001b[0m\u001b[0;34m=\u001b[0m\u001b[0;36m1\u001b[0m\u001b[0;34m)\u001b[0m\u001b[0;34m\u001b[0m\u001b[0m\n\u001b[0m\u001b[1;32m   2003\u001b[0m             \u001b[0;32mreturn\u001b[0m \u001b[0mself\u001b[0m\u001b[0;34m.\u001b[0m\u001b[0mtake\u001b[0m\u001b[0;34m(\u001b[0m\u001b[0mindexer\u001b[0m\u001b[0;34m,\u001b[0m \u001b[0maxis\u001b[0m\u001b[0;34m=\u001b[0m\u001b[0;36m1\u001b[0m\u001b[0;34m,\u001b[0m \u001b[0mconvert\u001b[0m\u001b[0;34m=\u001b[0m\u001b[0;32mTrue\u001b[0m\u001b[0;34m)\u001b[0m\u001b[0;34m\u001b[0m\u001b[0m\n\u001b[1;32m   2004\u001b[0m \u001b[0;34m\u001b[0m\u001b[0m\n",
      "\u001b[0;32m/Library/Frameworks/Python.framework/Versions/3.6/lib/python3.6/site-packages/pandas/core/indexing.py\u001b[0m in \u001b[0;36m_convert_to_indexer\u001b[0;34m(self, obj, axis, is_setter)\u001b[0m\n\u001b[1;32m   1229\u001b[0m                 \u001b[0mmask\u001b[0m \u001b[0;34m=\u001b[0m \u001b[0mcheck\u001b[0m \u001b[0;34m==\u001b[0m \u001b[0;34m-\u001b[0m\u001b[0;36m1\u001b[0m\u001b[0;34m\u001b[0m\u001b[0m\n\u001b[1;32m   1230\u001b[0m                 \u001b[0;32mif\u001b[0m \u001b[0mmask\u001b[0m\u001b[0;34m.\u001b[0m\u001b[0many\u001b[0m\u001b[0;34m(\u001b[0m\u001b[0;34m)\u001b[0m\u001b[0;34m:\u001b[0m\u001b[0;34m\u001b[0m\u001b[0m\n\u001b[0;32m-> 1231\u001b[0;31m                     \u001b[0;32mraise\u001b[0m \u001b[0mKeyError\u001b[0m\u001b[0;34m(\u001b[0m\u001b[0;34m'%s not in index'\u001b[0m \u001b[0;34m%\u001b[0m \u001b[0mobjarr\u001b[0m\u001b[0;34m[\u001b[0m\u001b[0mmask\u001b[0m\u001b[0;34m]\u001b[0m\u001b[0;34m)\u001b[0m\u001b[0;34m\u001b[0m\u001b[0m\n\u001b[0m\u001b[1;32m   1232\u001b[0m \u001b[0;34m\u001b[0m\u001b[0m\n\u001b[1;32m   1233\u001b[0m                 \u001b[0;32mreturn\u001b[0m \u001b[0m_values_from_object\u001b[0m\u001b[0;34m(\u001b[0m\u001b[0mindexer\u001b[0m\u001b[0;34m)\u001b[0m\u001b[0;34m\u001b[0m\u001b[0m\n",
      "\u001b[0;31mKeyError\u001b[0m: \"['Distance_To_Hydrology' 'Elev_Horz_Hydro_Sum' 'Elev_Horz_Hydro_Diff'\\n 'Elev_Vert_Hydro_Sum' 'Elev_Vert_Hydro_Diff' 'Fire_Road_Sum'\\n 'Fire_Road_Diff' 'Hydro_Road_Sum' 'Hydro_Road_Diff' 'Hydro_Fire_Sum'\\n 'Hydro_Fire_Diff'] not in index\""
     ]
    }
   ],
   "source": [
    "# Standardization\n",
    "sc = StandardScaler()\n",
    "sc.fit(x_train[quantative])\n",
    "for data in dataset:\n",
    "    data[quantative] = sc.transform(data[quantative])"
   ]
  },
  {
   "cell_type": "markdown",
   "metadata": {},
   "source": [
    "# Models"
   ]
  },
  {
   "cell_type": "code",
   "execution_count": 16,
   "metadata": {},
   "outputs": [
    {
     "data": {
      "text/plain": [
       "0.6784391534391534"
      ]
     },
     "execution_count": 16,
     "metadata": {},
     "output_type": "execute_result"
    }
   ],
   "source": [
    "# Logistic Regression\n",
    "lr = LogisticRegression(C=10)\n",
    "lr.fit(x_train, y_train)\n",
    "lr_pred = lr.predict(x_test)\n",
    "lr.score(x_train, y_train)"
   ]
  },
  {
   "cell_type": "code",
   "execution_count": 17,
   "metadata": {},
   "outputs": [
    {
     "data": {
      "text/plain": [
       "0.76249999999999996"
      ]
     },
     "execution_count": 17,
     "metadata": {},
     "output_type": "execute_result"
    }
   ],
   "source": [
    "# Raondom Forest\n",
    "rf = RandomForestClassifier(n_estimators=300,max_depth=7)\n",
    "rf.fit(x_train, y_train)\n",
    "rf.score(x_train, y_train)"
   ]
  },
  {
   "cell_type": "code",
   "execution_count": 18,
   "metadata": {},
   "outputs": [
    {
     "data": {
      "text/plain": [
       "RandomForestClassifier(bootstrap=True, class_weight=None, criterion='gini',\n",
       "            max_depth=7, max_features='auto', max_leaf_nodes=None,\n",
       "            min_impurity_split=1e-07, min_samples_leaf=1,\n",
       "            min_samples_split=2, min_weight_fraction_leaf=0.0,\n",
       "            n_estimators=300, n_jobs=1, oob_score=False, random_state=None,\n",
       "            verbose=0, warm_start=False)"
      ]
     },
     "execution_count": 18,
     "metadata": {},
     "output_type": "execute_result"
    }
   ],
   "source": [
    "rf.fit(x_train, y_train)"
   ]
  },
  {
   "cell_type": "code",
   "execution_count": 19,
   "metadata": {},
   "outputs": [
    {
     "data": {
      "text/plain": [
       "0.90079365079365081"
      ]
     },
     "execution_count": 19,
     "metadata": {},
     "output_type": "execute_result"
    }
   ],
   "source": [
    "# KNN\n",
    "knn = KNeighborsClassifier(n_neighbors = 3)\n",
    "knn.fit(x_train, y_train)\n",
    "knn.score(x_train, y_train)\n",
    "# knn_pred = knn.predict(x_test)"
   ]
  },
  {
   "cell_type": "code",
   "execution_count": 20,
   "metadata": {},
   "outputs": [
    {
     "data": {
      "text/plain": [
       "0.75403439153439156"
      ]
     },
     "execution_count": 20,
     "metadata": {},
     "output_type": "execute_result"
    }
   ],
   "source": [
    "# Support Vector Machine\n",
    "svc = SVC()\n",
    "svc.fit(x_train, y_train)\n",
    "svc.score(x_train, y_train)\n",
    "# svc_pred = svc.predict(x_test)"
   ]
  },
  {
   "cell_type": "code",
   "execution_count": 21,
   "metadata": {},
   "outputs": [
    {
     "name": "stdout",
     "output_type": "stream",
     "text": [
      "CV accuracy of RandomForestClassifier(bootstrap=True, class_weight=None, criterion='gini',\n",
      "            max_depth=7, max_features='auto', max_leaf_nodes=None,\n",
      "            min_impurity_split=1e-07, min_samples_leaf=1,\n",
      "            min_samples_split=2, min_weight_fraction_leaf=0.0,\n",
      "            n_estimators=300, n_jobs=1, oob_score=False, random_state=None,\n",
      "            verbose=0, warm_start=False) is \n",
      " 0.701 +-0.051\n",
      "CV accuracy of KNeighborsClassifier(algorithm='auto', leaf_size=30, metric='minkowski',\n",
      "           metric_params=None, n_jobs=1, n_neighbors=3, p=2,\n",
      "           weights='uniform') is \n",
      " 0.701 +-0.047\n"
     ]
    }
   ],
   "source": [
    "for estimator in [rf, knn]:\n",
    "    scores = cross_val_score(estimator = estimator,\n",
    "                         X = x_train,\n",
    "                         y = y_train, \n",
    "                         cv = 10,\n",
    "                         n_jobs = -1\n",
    "                        )\n",
    "\n",
    "    print('CV accuracy of %s is \\n %.3f +-%.3f' %(str(estimator), np.mean(scores), np.std(scores)))"
   ]
  },
  {
   "cell_type": "code",
   "execution_count": 22,
   "metadata": {
    "collapsed": true
   },
   "outputs": [],
   "source": [
    "# xgbclassifier\n",
    "clf = xgb.XGBClassifier(max_depth=7,\n",
    "                        n_estimators=350, learning_rate=0.03,\n",
    "                        subsample=0.95,\n",
    "                        colsample_bytree=0.85, seed=1)"
   ]
  },
  {
   "cell_type": "code",
   "execution_count": 23,
   "metadata": {
    "collapsed": true
   },
   "outputs": [],
   "source": [
    "train_x, val_x, train_y, val_y = train_test_split(x_train, y_train, test_size=0.2)"
   ]
  },
  {
   "cell_type": "code",
   "execution_count": 24,
   "metadata": {},
   "outputs": [
    {
     "name": "stdout",
     "output_type": "stream",
     "text": [
      "[0]\tvalidation_0-merror:0.269511\n",
      "Will train until validation_0-merror hasn't improved in 40 rounds.\n",
      "[1]\tvalidation_0-merror:0.255622\n",
      "[2]\tvalidation_0-merror:0.238757\n",
      "[3]\tvalidation_0-merror:0.233466\n",
      "[4]\tvalidation_0-merror:0.229497\n",
      "[5]\tvalidation_0-merror:0.227183\n",
      "[6]\tvalidation_0-merror:0.227183\n",
      "[7]\tvalidation_0-merror:0.224537\n",
      "[8]\tvalidation_0-merror:0.222222\n",
      "[9]\tvalidation_0-merror:0.220899\n",
      "[10]\tvalidation_0-merror:0.215939\n",
      "[11]\tvalidation_0-merror:0.214286\n",
      "[12]\tvalidation_0-merror:0.215939\n",
      "[13]\tvalidation_0-merror:0.219246\n",
      "[14]\tvalidation_0-merror:0.218585\n",
      "[15]\tvalidation_0-merror:0.217593\n",
      "[16]\tvalidation_0-merror:0.217923\n",
      "[17]\tvalidation_0-merror:0.217593\n",
      "[18]\tvalidation_0-merror:0.216931\n",
      "[19]\tvalidation_0-merror:0.217593\n",
      "[20]\tvalidation_0-merror:0.216601\n",
      "[21]\tvalidation_0-merror:0.215939\n",
      "[22]\tvalidation_0-merror:0.214947\n",
      "[23]\tvalidation_0-merror:0.213955\n",
      "[24]\tvalidation_0-merror:0.211971\n",
      "[25]\tvalidation_0-merror:0.212963\n",
      "[26]\tvalidation_0-merror:0.211971\n",
      "[27]\tvalidation_0-merror:0.211971\n",
      "[28]\tvalidation_0-merror:0.210648\n",
      "[29]\tvalidation_0-merror:0.210317\n",
      "[30]\tvalidation_0-merror:0.210317\n",
      "[31]\tvalidation_0-merror:0.21131\n",
      "[32]\tvalidation_0-merror:0.210979\n",
      "[33]\tvalidation_0-merror:0.210979\n",
      "[34]\tvalidation_0-merror:0.207672\n",
      "[35]\tvalidation_0-merror:0.208995\n",
      "[36]\tvalidation_0-merror:0.207672\n",
      "[37]\tvalidation_0-merror:0.207672\n",
      "[38]\tvalidation_0-merror:0.205688\n",
      "[39]\tvalidation_0-merror:0.205026\n",
      "[40]\tvalidation_0-merror:0.203373\n",
      "[41]\tvalidation_0-merror:0.204365\n",
      "[42]\tvalidation_0-merror:0.203373\n",
      "[43]\tvalidation_0-merror:0.20205\n",
      "[44]\tvalidation_0-merror:0.201389\n",
      "[45]\tvalidation_0-merror:0.200728\n",
      "[46]\tvalidation_0-merror:0.201389\n",
      "[47]\tvalidation_0-merror:0.200728\n",
      "[48]\tvalidation_0-merror:0.20172\n",
      "[49]\tvalidation_0-merror:0.20172\n",
      "[50]\tvalidation_0-merror:0.20172\n",
      "[51]\tvalidation_0-merror:0.20172\n",
      "[52]\tvalidation_0-merror:0.20205\n",
      "[53]\tvalidation_0-merror:0.200397\n",
      "[54]\tvalidation_0-merror:0.200066\n",
      "[55]\tvalidation_0-merror:0.201058\n",
      "[56]\tvalidation_0-merror:0.200066\n",
      "[57]\tvalidation_0-merror:0.201058\n",
      "[58]\tvalidation_0-merror:0.201058\n",
      "[59]\tvalidation_0-merror:0.199074\n",
      "[60]\tvalidation_0-merror:0.196098\n",
      "[61]\tvalidation_0-merror:0.197421\n",
      "[62]\tvalidation_0-merror:0.19709\n",
      "[63]\tvalidation_0-merror:0.196759\n",
      "[64]\tvalidation_0-merror:0.196098\n",
      "[65]\tvalidation_0-merror:0.195106\n",
      "[66]\tvalidation_0-merror:0.196098\n",
      "[67]\tvalidation_0-merror:0.194775\n",
      "[68]\tvalidation_0-merror:0.195767\n",
      "[69]\tvalidation_0-merror:0.194114\n",
      "[70]\tvalidation_0-merror:0.193783\n",
      "[71]\tvalidation_0-merror:0.195106\n",
      "[72]\tvalidation_0-merror:0.196098\n",
      "[73]\tvalidation_0-merror:0.195437\n",
      "[74]\tvalidation_0-merror:0.195767\n",
      "[75]\tvalidation_0-merror:0.195437\n",
      "[76]\tvalidation_0-merror:0.195106\n",
      "[77]\tvalidation_0-merror:0.194775\n",
      "[78]\tvalidation_0-merror:0.195106\n",
      "[79]\tvalidation_0-merror:0.194775\n",
      "[80]\tvalidation_0-merror:0.194114\n",
      "[81]\tvalidation_0-merror:0.193783\n",
      "[82]\tvalidation_0-merror:0.192791\n",
      "[83]\tvalidation_0-merror:0.193122\n",
      "[84]\tvalidation_0-merror:0.192791\n",
      "[85]\tvalidation_0-merror:0.193122\n",
      "[86]\tvalidation_0-merror:0.19246\n",
      "[87]\tvalidation_0-merror:0.19246\n",
      "[88]\tvalidation_0-merror:0.19246\n",
      "[89]\tvalidation_0-merror:0.191138\n",
      "[90]\tvalidation_0-merror:0.19213\n",
      "[91]\tvalidation_0-merror:0.191799\n",
      "[92]\tvalidation_0-merror:0.191468\n",
      "[93]\tvalidation_0-merror:0.190476\n",
      "[94]\tvalidation_0-merror:0.189815\n",
      "[95]\tvalidation_0-merror:0.189815\n",
      "[96]\tvalidation_0-merror:0.190146\n",
      "[97]\tvalidation_0-merror:0.190807\n",
      "[98]\tvalidation_0-merror:0.190146\n",
      "[99]\tvalidation_0-merror:0.190146\n",
      "[100]\tvalidation_0-merror:0.189484\n",
      "[101]\tvalidation_0-merror:0.188161\n",
      "[102]\tvalidation_0-merror:0.188492\n",
      "[103]\tvalidation_0-merror:0.1875\n",
      "[104]\tvalidation_0-merror:0.187169\n",
      "[105]\tvalidation_0-merror:0.185847\n",
      "[106]\tvalidation_0-merror:0.185516\n",
      "[107]\tvalidation_0-merror:0.185185\n",
      "[108]\tvalidation_0-merror:0.185516\n",
      "[109]\tvalidation_0-merror:0.184524\n",
      "[110]\tvalidation_0-merror:0.184854\n",
      "[111]\tvalidation_0-merror:0.184524\n",
      "[112]\tvalidation_0-merror:0.184524\n",
      "[113]\tvalidation_0-merror:0.183201\n",
      "[114]\tvalidation_0-merror:0.183201\n",
      "[115]\tvalidation_0-merror:0.18287\n",
      "[116]\tvalidation_0-merror:0.18287\n",
      "[117]\tvalidation_0-merror:0.18287\n",
      "[118]\tvalidation_0-merror:0.18287\n",
      "[119]\tvalidation_0-merror:0.183201\n",
      "[120]\tvalidation_0-merror:0.183201\n",
      "[121]\tvalidation_0-merror:0.18254\n",
      "[122]\tvalidation_0-merror:0.181548\n",
      "[123]\tvalidation_0-merror:0.180556\n",
      "[124]\tvalidation_0-merror:0.180886\n",
      "[125]\tvalidation_0-merror:0.181217\n",
      "[126]\tvalidation_0-merror:0.180886\n",
      "[127]\tvalidation_0-merror:0.180556\n",
      "[128]\tvalidation_0-merror:0.180886\n",
      "[129]\tvalidation_0-merror:0.180886\n",
      "[130]\tvalidation_0-merror:0.179894\n",
      "[131]\tvalidation_0-merror:0.180886\n",
      "[132]\tvalidation_0-merror:0.181217\n",
      "[133]\tvalidation_0-merror:0.180886\n",
      "[134]\tvalidation_0-merror:0.181217\n",
      "[135]\tvalidation_0-merror:0.180886\n",
      "[136]\tvalidation_0-merror:0.181217\n",
      "[137]\tvalidation_0-merror:0.180886\n",
      "[138]\tvalidation_0-merror:0.181217\n",
      "[139]\tvalidation_0-merror:0.181548\n",
      "[140]\tvalidation_0-merror:0.181548\n",
      "[141]\tvalidation_0-merror:0.180556\n",
      "[142]\tvalidation_0-merror:0.180225\n",
      "[143]\tvalidation_0-merror:0.179233\n",
      "[144]\tvalidation_0-merror:0.179563\n",
      "[145]\tvalidation_0-merror:0.179894\n",
      "[146]\tvalidation_0-merror:0.179894\n",
      "[147]\tvalidation_0-merror:0.179894\n",
      "[148]\tvalidation_0-merror:0.179894\n",
      "[149]\tvalidation_0-merror:0.180225\n",
      "[150]\tvalidation_0-merror:0.179894\n",
      "[151]\tvalidation_0-merror:0.179894\n",
      "[152]\tvalidation_0-merror:0.180225\n",
      "[153]\tvalidation_0-merror:0.180225\n",
      "[154]\tvalidation_0-merror:0.180225\n",
      "[155]\tvalidation_0-merror:0.179563\n",
      "[156]\tvalidation_0-merror:0.179563\n",
      "[157]\tvalidation_0-merror:0.180225\n",
      "[158]\tvalidation_0-merror:0.180225\n",
      "[159]\tvalidation_0-merror:0.179894\n",
      "[160]\tvalidation_0-merror:0.179894\n",
      "[161]\tvalidation_0-merror:0.179894\n",
      "[162]\tvalidation_0-merror:0.180556\n",
      "[163]\tvalidation_0-merror:0.179563\n",
      "[164]\tvalidation_0-merror:0.179233\n",
      "[165]\tvalidation_0-merror:0.178902\n",
      "[166]\tvalidation_0-merror:0.178571\n",
      "[167]\tvalidation_0-merror:0.178571\n",
      "[168]\tvalidation_0-merror:0.179233\n",
      "[169]\tvalidation_0-merror:0.178571\n",
      "[170]\tvalidation_0-merror:0.178902\n",
      "[171]\tvalidation_0-merror:0.177579\n",
      "[172]\tvalidation_0-merror:0.177579\n",
      "[173]\tvalidation_0-merror:0.178241\n",
      "[174]\tvalidation_0-merror:0.178571\n",
      "[175]\tvalidation_0-merror:0.178571\n",
      "[176]\tvalidation_0-merror:0.178241\n",
      "[177]\tvalidation_0-merror:0.177579\n",
      "[178]\tvalidation_0-merror:0.177579\n",
      "[179]\tvalidation_0-merror:0.17791\n",
      "[180]\tvalidation_0-merror:0.177249\n",
      "[181]\tvalidation_0-merror:0.177249\n",
      "[182]\tvalidation_0-merror:0.177579\n",
      "[183]\tvalidation_0-merror:0.177249\n",
      "[184]\tvalidation_0-merror:0.176587\n",
      "[185]\tvalidation_0-merror:0.175595\n",
      "[186]\tvalidation_0-merror:0.175595\n",
      "[187]\tvalidation_0-merror:0.175265\n",
      "[188]\tvalidation_0-merror:0.175595\n",
      "[189]\tvalidation_0-merror:0.175265\n",
      "[190]\tvalidation_0-merror:0.175595\n",
      "[191]\tvalidation_0-merror:0.174934\n",
      "[192]\tvalidation_0-merror:0.174934\n",
      "[193]\tvalidation_0-merror:0.174603\n",
      "[194]\tvalidation_0-merror:0.174272\n",
      "[195]\tvalidation_0-merror:0.174272\n",
      "[196]\tvalidation_0-merror:0.174272\n",
      "[197]\tvalidation_0-merror:0.174603\n",
      "[198]\tvalidation_0-merror:0.175265\n",
      "[199]\tvalidation_0-merror:0.175265\n",
      "[200]\tvalidation_0-merror:0.175265\n",
      "[201]\tvalidation_0-merror:0.175265\n",
      "[202]\tvalidation_0-merror:0.174934\n",
      "[203]\tvalidation_0-merror:0.175595\n",
      "[204]\tvalidation_0-merror:0.175595\n",
      "[205]\tvalidation_0-merror:0.175595\n",
      "[206]\tvalidation_0-merror:0.175265\n",
      "[207]\tvalidation_0-merror:0.175595\n",
      "[208]\tvalidation_0-merror:0.176257\n",
      "[209]\tvalidation_0-merror:0.175595\n",
      "[210]\tvalidation_0-merror:0.174603\n",
      "[211]\tvalidation_0-merror:0.175265\n",
      "[212]\tvalidation_0-merror:0.174272\n",
      "[213]\tvalidation_0-merror:0.174603\n",
      "[214]\tvalidation_0-merror:0.174934\n",
      "[215]\tvalidation_0-merror:0.174603\n",
      "[216]\tvalidation_0-merror:0.174272\n",
      "[217]\tvalidation_0-merror:0.175265\n",
      "[218]\tvalidation_0-merror:0.174934\n",
      "[219]\tvalidation_0-merror:0.174934\n",
      "[220]\tvalidation_0-merror:0.174934\n",
      "[221]\tvalidation_0-merror:0.175595\n",
      "[222]\tvalidation_0-merror:0.175926\n",
      "[223]\tvalidation_0-merror:0.175926\n",
      "[224]\tvalidation_0-merror:0.175926\n",
      "[225]\tvalidation_0-merror:0.175595\n",
      "[226]\tvalidation_0-merror:0.175265\n",
      "[227]\tvalidation_0-merror:0.174934\n",
      "[228]\tvalidation_0-merror:0.175265\n",
      "[229]\tvalidation_0-merror:0.174934\n",
      "[230]\tvalidation_0-merror:0.174603\n",
      "[231]\tvalidation_0-merror:0.174603\n",
      "[232]\tvalidation_0-merror:0.173942\n",
      "[233]\tvalidation_0-merror:0.173942\n",
      "[234]\tvalidation_0-merror:0.174272\n",
      "[235]\tvalidation_0-merror:0.173611\n"
     ]
    },
    {
     "name": "stdout",
     "output_type": "stream",
     "text": [
      "[236]\tvalidation_0-merror:0.17295\n",
      "[237]\tvalidation_0-merror:0.173611\n",
      "[238]\tvalidation_0-merror:0.173611\n",
      "[239]\tvalidation_0-merror:0.173942\n",
      "[240]\tvalidation_0-merror:0.17328\n",
      "[241]\tvalidation_0-merror:0.172619\n",
      "[242]\tvalidation_0-merror:0.172619\n",
      "[243]\tvalidation_0-merror:0.171627\n",
      "[244]\tvalidation_0-merror:0.171296\n",
      "[245]\tvalidation_0-merror:0.171958\n",
      "[246]\tvalidation_0-merror:0.171958\n",
      "[247]\tvalidation_0-merror:0.172288\n",
      "[248]\tvalidation_0-merror:0.171958\n",
      "[249]\tvalidation_0-merror:0.171958\n",
      "[250]\tvalidation_0-merror:0.170966\n",
      "[251]\tvalidation_0-merror:0.171627\n",
      "[252]\tvalidation_0-merror:0.171296\n",
      "[253]\tvalidation_0-merror:0.171958\n",
      "[254]\tvalidation_0-merror:0.171296\n",
      "[255]\tvalidation_0-merror:0.170966\n",
      "[256]\tvalidation_0-merror:0.170635\n",
      "[257]\tvalidation_0-merror:0.170304\n",
      "[258]\tvalidation_0-merror:0.170304\n",
      "[259]\tvalidation_0-merror:0.170304\n",
      "[260]\tvalidation_0-merror:0.170966\n",
      "[261]\tvalidation_0-merror:0.170966\n",
      "[262]\tvalidation_0-merror:0.170966\n",
      "[263]\tvalidation_0-merror:0.170966\n",
      "[264]\tvalidation_0-merror:0.170304\n",
      "[265]\tvalidation_0-merror:0.170304\n",
      "[266]\tvalidation_0-merror:0.169312\n",
      "[267]\tvalidation_0-merror:0.169312\n",
      "[268]\tvalidation_0-merror:0.169643\n",
      "[269]\tvalidation_0-merror:0.169643\n",
      "[270]\tvalidation_0-merror:0.169974\n",
      "[271]\tvalidation_0-merror:0.170966\n",
      "[272]\tvalidation_0-merror:0.170635\n",
      "[273]\tvalidation_0-merror:0.169974\n",
      "[274]\tvalidation_0-merror:0.169974\n",
      "[275]\tvalidation_0-merror:0.168981\n",
      "[276]\tvalidation_0-merror:0.169643\n",
      "[277]\tvalidation_0-merror:0.168651\n",
      "[278]\tvalidation_0-merror:0.168651\n",
      "[279]\tvalidation_0-merror:0.169312\n",
      "[280]\tvalidation_0-merror:0.168981\n",
      "[281]\tvalidation_0-merror:0.169643\n",
      "[282]\tvalidation_0-merror:0.16832\n",
      "[283]\tvalidation_0-merror:0.16832\n",
      "[284]\tvalidation_0-merror:0.167989\n",
      "[285]\tvalidation_0-merror:0.167659\n",
      "[286]\tvalidation_0-merror:0.167989\n",
      "[287]\tvalidation_0-merror:0.168651\n",
      "[288]\tvalidation_0-merror:0.168651\n",
      "[289]\tvalidation_0-merror:0.167989\n",
      "[290]\tvalidation_0-merror:0.166997\n",
      "[291]\tvalidation_0-merror:0.16832\n",
      "[292]\tvalidation_0-merror:0.167989\n",
      "[293]\tvalidation_0-merror:0.167659\n",
      "[294]\tvalidation_0-merror:0.167989\n",
      "[295]\tvalidation_0-merror:0.16832\n",
      "[296]\tvalidation_0-merror:0.167328\n",
      "[297]\tvalidation_0-merror:0.166997\n",
      "[298]\tvalidation_0-merror:0.166997\n",
      "[299]\tvalidation_0-merror:0.167328\n",
      "[300]\tvalidation_0-merror:0.167659\n",
      "[301]\tvalidation_0-merror:0.167659\n",
      "[302]\tvalidation_0-merror:0.167989\n",
      "[303]\tvalidation_0-merror:0.167659\n",
      "[304]\tvalidation_0-merror:0.169312\n",
      "[305]\tvalidation_0-merror:0.16832\n",
      "[306]\tvalidation_0-merror:0.167659\n",
      "[307]\tvalidation_0-merror:0.167328\n",
      "[308]\tvalidation_0-merror:0.167659\n",
      "[309]\tvalidation_0-merror:0.167659\n",
      "[310]\tvalidation_0-merror:0.166997\n",
      "[311]\tvalidation_0-merror:0.167659\n",
      "[312]\tvalidation_0-merror:0.166997\n",
      "[313]\tvalidation_0-merror:0.167328\n",
      "[314]\tvalidation_0-merror:0.167328\n",
      "[315]\tvalidation_0-merror:0.166667\n",
      "[316]\tvalidation_0-merror:0.166667\n",
      "[317]\tvalidation_0-merror:0.166336\n",
      "[318]\tvalidation_0-merror:0.166667\n",
      "[319]\tvalidation_0-merror:0.166336\n",
      "[320]\tvalidation_0-merror:0.165675\n",
      "[321]\tvalidation_0-merror:0.165675\n",
      "[322]\tvalidation_0-merror:0.164683\n",
      "[323]\tvalidation_0-merror:0.165013\n",
      "[324]\tvalidation_0-merror:0.165344\n",
      "[325]\tvalidation_0-merror:0.165013\n",
      "[326]\tvalidation_0-merror:0.164683\n",
      "[327]\tvalidation_0-merror:0.165013\n",
      "[328]\tvalidation_0-merror:0.165344\n",
      "[329]\tvalidation_0-merror:0.165344\n",
      "[330]\tvalidation_0-merror:0.165675\n",
      "[331]\tvalidation_0-merror:0.166005\n",
      "[332]\tvalidation_0-merror:0.165675\n",
      "[333]\tvalidation_0-merror:0.165675\n",
      "[334]\tvalidation_0-merror:0.165344\n",
      "[335]\tvalidation_0-merror:0.165344\n",
      "[336]\tvalidation_0-merror:0.166005\n",
      "[337]\tvalidation_0-merror:0.165344\n",
      "[338]\tvalidation_0-merror:0.165675\n",
      "[339]\tvalidation_0-merror:0.165675\n",
      "[340]\tvalidation_0-merror:0.164683\n",
      "[341]\tvalidation_0-merror:0.164352\n",
      "[342]\tvalidation_0-merror:0.164352\n",
      "[343]\tvalidation_0-merror:0.164021\n",
      "[344]\tvalidation_0-merror:0.16336\n",
      "[345]\tvalidation_0-merror:0.16336\n",
      "[346]\tvalidation_0-merror:0.164021\n",
      "[347]\tvalidation_0-merror:0.164352\n",
      "[348]\tvalidation_0-merror:0.164352\n",
      "[349]\tvalidation_0-merror:0.16336\n"
     ]
    },
    {
     "data": {
      "text/plain": [
       "XGBClassifier(base_score=0.5, colsample_bylevel=1, colsample_bytree=0.85,\n",
       "       gamma=0, learning_rate=0.03, max_delta_step=0, max_depth=7,\n",
       "       min_child_weight=1, missing=None, n_estimators=350, nthread=-1,\n",
       "       objective='multi:softprob', reg_alpha=0, reg_lambda=1,\n",
       "       scale_pos_weight=1, seed=1, silent=True, subsample=0.95)"
      ]
     },
     "execution_count": 24,
     "metadata": {},
     "output_type": "execute_result"
    }
   ],
   "source": [
    "# fitting\n",
    "clf.fit(train_x, train_y,\n",
    "        early_stopping_rounds=40, \n",
    "        eval_metric=\"merror\", eval_set=[(val_x, val_y)])"
   ]
  },
  {
   "cell_type": "code",
   "execution_count": 25,
   "metadata": {
    "scrolled": true
   },
   "outputs": [
    {
     "data": {
      "text/plain": [
       "0.83664021164021163"
      ]
     },
     "execution_count": 25,
     "metadata": {},
     "output_type": "execute_result"
    }
   ],
   "source": [
    "clf.score(val_x, val_y)"
   ]
  },
  {
   "cell_type": "code",
   "execution_count": 26,
   "metadata": {
    "collapsed": true
   },
   "outputs": [],
   "source": [
    "clf_pred = clf.predict(x_test)"
   ]
  },
  {
   "cell_type": "markdown",
   "metadata": {},
   "source": [
    "# Submission"
   ]
  },
  {
   "cell_type": "code",
   "execution_count": 27,
   "metadata": {
    "collapsed": true
   },
   "outputs": [],
   "source": [
    "prediction = clf_pred"
   ]
  },
  {
   "cell_type": "code",
   "execution_count": 28,
   "metadata": {
    "collapsed": true
   },
   "outputs": [],
   "source": [
    "submission = pd.DataFrame({\n",
    "        'Id': np.arange(train.shape[0]+1, train.shape[0]+prediction.shape[0]+1),\n",
    "        'Cover_Type': prediction\n",
    "})\n",
    "cols = submission.columns \n",
    "cols = cols[::-1]\n",
    "submission = submission[cols]\n",
    "submission.to_csv('submission/submission_clf.csv', index=False)"
   ]
  }
 ],
 "metadata": {
  "kernelspec": {
   "display_name": "Python 3",
   "language": "python",
   "name": "python3"
  },
  "language_info": {
   "codemirror_mode": {
    "name": "ipython",
    "version": 3
   },
   "file_extension": ".py",
   "mimetype": "text/x-python",
   "name": "python",
   "nbconvert_exporter": "python",
   "pygments_lexer": "ipython3",
   "version": "3.6.1"
  }
 },
 "nbformat": 4,
 "nbformat_minor": 2
}
