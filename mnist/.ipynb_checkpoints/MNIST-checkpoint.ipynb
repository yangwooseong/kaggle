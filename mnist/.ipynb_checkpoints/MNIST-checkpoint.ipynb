{
 "cells": [
  {
   "cell_type": "markdown",
   "metadata": {},
   "source": [
    "# DNN digit recognizer using MNIST data"
   ]
  },
  {
   "cell_type": "code",
   "execution_count": 1,
   "metadata": {
    "collapsed": true
   },
   "outputs": [],
   "source": [
    "import numpy as np\n",
    "import pandas as pd\n",
    "\n",
    "%matplotlib inline\n",
    "import matplotlib.pyplot as plt\n",
    "import matplotlib.cm as cm\n",
    "\n",
    "from sklearn.preprocessing import OneHotEncoder\n",
    "from sklearn.model_selection import train_test_split\n",
    "import tensorflow as tf\n",
    "from tensorflow.contrib.layers import xavier_initializer"
   ]
  },
  {
   "cell_type": "code",
   "execution_count": 2,
   "metadata": {
    "collapsed": true
   },
   "outputs": [],
   "source": [
    "# read training data from CSV file \n",
    "train = pd.read_csv('data/train.csv')\n",
    "test = pd.read_csv('data/test.csv')"
   ]
  },
  {
   "cell_type": "code",
   "execution_count": 3,
   "metadata": {},
   "outputs": [
    {
     "data": {
      "text/plain": [
       "(42000, 785)"
      ]
     },
     "execution_count": 3,
     "metadata": {},
     "output_type": "execute_result"
    }
   ],
   "source": [
    "train.shape"
   ]
  },
  {
   "cell_type": "code",
   "execution_count": 4,
   "metadata": {},
   "outputs": [
    {
     "data": {
      "text/html": [
       "<div>\n",
       "<style>\n",
       "    .dataframe thead tr:only-child th {\n",
       "        text-align: right;\n",
       "    }\n",
       "\n",
       "    .dataframe thead th {\n",
       "        text-align: left;\n",
       "    }\n",
       "\n",
       "    .dataframe tbody tr th {\n",
       "        vertical-align: top;\n",
       "    }\n",
       "</style>\n",
       "<table border=\"1\" class=\"dataframe\">\n",
       "  <thead>\n",
       "    <tr style=\"text-align: right;\">\n",
       "      <th></th>\n",
       "      <th>label</th>\n",
       "      <th>pixel0</th>\n",
       "      <th>pixel1</th>\n",
       "      <th>pixel2</th>\n",
       "      <th>pixel3</th>\n",
       "      <th>pixel4</th>\n",
       "      <th>pixel5</th>\n",
       "      <th>pixel6</th>\n",
       "      <th>pixel7</th>\n",
       "      <th>pixel8</th>\n",
       "      <th>...</th>\n",
       "      <th>pixel774</th>\n",
       "      <th>pixel775</th>\n",
       "      <th>pixel776</th>\n",
       "      <th>pixel777</th>\n",
       "      <th>pixel778</th>\n",
       "      <th>pixel779</th>\n",
       "      <th>pixel780</th>\n",
       "      <th>pixel781</th>\n",
       "      <th>pixel782</th>\n",
       "      <th>pixel783</th>\n",
       "    </tr>\n",
       "  </thead>\n",
       "  <tbody>\n",
       "    <tr>\n",
       "      <th>0</th>\n",
       "      <td>1</td>\n",
       "      <td>0</td>\n",
       "      <td>0</td>\n",
       "      <td>0</td>\n",
       "      <td>0</td>\n",
       "      <td>0</td>\n",
       "      <td>0</td>\n",
       "      <td>0</td>\n",
       "      <td>0</td>\n",
       "      <td>0</td>\n",
       "      <td>...</td>\n",
       "      <td>0</td>\n",
       "      <td>0</td>\n",
       "      <td>0</td>\n",
       "      <td>0</td>\n",
       "      <td>0</td>\n",
       "      <td>0</td>\n",
       "      <td>0</td>\n",
       "      <td>0</td>\n",
       "      <td>0</td>\n",
       "      <td>0</td>\n",
       "    </tr>\n",
       "    <tr>\n",
       "      <th>1</th>\n",
       "      <td>0</td>\n",
       "      <td>0</td>\n",
       "      <td>0</td>\n",
       "      <td>0</td>\n",
       "      <td>0</td>\n",
       "      <td>0</td>\n",
       "      <td>0</td>\n",
       "      <td>0</td>\n",
       "      <td>0</td>\n",
       "      <td>0</td>\n",
       "      <td>...</td>\n",
       "      <td>0</td>\n",
       "      <td>0</td>\n",
       "      <td>0</td>\n",
       "      <td>0</td>\n",
       "      <td>0</td>\n",
       "      <td>0</td>\n",
       "      <td>0</td>\n",
       "      <td>0</td>\n",
       "      <td>0</td>\n",
       "      <td>0</td>\n",
       "    </tr>\n",
       "    <tr>\n",
       "      <th>2</th>\n",
       "      <td>1</td>\n",
       "      <td>0</td>\n",
       "      <td>0</td>\n",
       "      <td>0</td>\n",
       "      <td>0</td>\n",
       "      <td>0</td>\n",
       "      <td>0</td>\n",
       "      <td>0</td>\n",
       "      <td>0</td>\n",
       "      <td>0</td>\n",
       "      <td>...</td>\n",
       "      <td>0</td>\n",
       "      <td>0</td>\n",
       "      <td>0</td>\n",
       "      <td>0</td>\n",
       "      <td>0</td>\n",
       "      <td>0</td>\n",
       "      <td>0</td>\n",
       "      <td>0</td>\n",
       "      <td>0</td>\n",
       "      <td>0</td>\n",
       "    </tr>\n",
       "    <tr>\n",
       "      <th>3</th>\n",
       "      <td>4</td>\n",
       "      <td>0</td>\n",
       "      <td>0</td>\n",
       "      <td>0</td>\n",
       "      <td>0</td>\n",
       "      <td>0</td>\n",
       "      <td>0</td>\n",
       "      <td>0</td>\n",
       "      <td>0</td>\n",
       "      <td>0</td>\n",
       "      <td>...</td>\n",
       "      <td>0</td>\n",
       "      <td>0</td>\n",
       "      <td>0</td>\n",
       "      <td>0</td>\n",
       "      <td>0</td>\n",
       "      <td>0</td>\n",
       "      <td>0</td>\n",
       "      <td>0</td>\n",
       "      <td>0</td>\n",
       "      <td>0</td>\n",
       "    </tr>\n",
       "    <tr>\n",
       "      <th>4</th>\n",
       "      <td>0</td>\n",
       "      <td>0</td>\n",
       "      <td>0</td>\n",
       "      <td>0</td>\n",
       "      <td>0</td>\n",
       "      <td>0</td>\n",
       "      <td>0</td>\n",
       "      <td>0</td>\n",
       "      <td>0</td>\n",
       "      <td>0</td>\n",
       "      <td>...</td>\n",
       "      <td>0</td>\n",
       "      <td>0</td>\n",
       "      <td>0</td>\n",
       "      <td>0</td>\n",
       "      <td>0</td>\n",
       "      <td>0</td>\n",
       "      <td>0</td>\n",
       "      <td>0</td>\n",
       "      <td>0</td>\n",
       "      <td>0</td>\n",
       "    </tr>\n",
       "  </tbody>\n",
       "</table>\n",
       "<p>5 rows × 785 columns</p>\n",
       "</div>"
      ],
      "text/plain": [
       "   label  pixel0  pixel1  pixel2  pixel3  pixel4  pixel5  pixel6  pixel7  \\\n",
       "0      1       0       0       0       0       0       0       0       0   \n",
       "1      0       0       0       0       0       0       0       0       0   \n",
       "2      1       0       0       0       0       0       0       0       0   \n",
       "3      4       0       0       0       0       0       0       0       0   \n",
       "4      0       0       0       0       0       0       0       0       0   \n",
       "\n",
       "   pixel8    ...     pixel774  pixel775  pixel776  pixel777  pixel778  \\\n",
       "0       0    ...            0         0         0         0         0   \n",
       "1       0    ...            0         0         0         0         0   \n",
       "2       0    ...            0         0         0         0         0   \n",
       "3       0    ...            0         0         0         0         0   \n",
       "4       0    ...            0         0         0         0         0   \n",
       "\n",
       "   pixel779  pixel780  pixel781  pixel782  pixel783  \n",
       "0         0         0         0         0         0  \n",
       "1         0         0         0         0         0  \n",
       "2         0         0         0         0         0  \n",
       "3         0         0         0         0         0  \n",
       "4         0         0         0         0         0  \n",
       "\n",
       "[5 rows x 785 columns]"
      ]
     },
     "execution_count": 4,
     "metadata": {},
     "output_type": "execute_result"
    }
   ],
   "source": [
    "train.head()"
   ]
  },
  {
   "cell_type": "code",
   "execution_count": 5,
   "metadata": {
    "collapsed": true
   },
   "outputs": [],
   "source": [
    "X = train.iloc[:,1:].values.astype(np.float32)\n",
    "y = train.iloc[:,0].values.astype(np.float32)\n",
    "X_test = test.values.astype(np.float32)\n",
    "\n",
    "x_train, x_val, y_train, y_val = train_test_split(X, y, test_size=0.1, random_state=1)\n",
    "\n",
    "nb_classes = 10\n",
    "learning_rate = 0.001"
   ]
  },
  {
   "cell_type": "code",
   "execution_count": 6,
   "metadata": {
    "collapsed": true
   },
   "outputs": [],
   "source": [
    "g = tf.Graph()"
   ]
  },
  {
   "cell_type": "code",
   "execution_count": 7,
   "metadata": {},
   "outputs": [
    {
     "data": {
      "text/plain": [
       "<matplotlib.image.AxesImage at 0x114e35898>"
      ]
     },
     "execution_count": 7,
     "metadata": {},
     "output_type": "execute_result"
    },
    {
     "data": {
      "image/png": "[encoded data removed]",
      "text/plain": [
       "<matplotlib.figure.Figure at 0x114d25080>"
      ]
     },
     "metadata": {},
     "output_type": "display_data"
    }
   ],
   "source": [
    "plt.imshow(x_train.reshape(-1, 28, 28)[5])"
   ]
  },
  {
   "cell_type": "markdown",
   "metadata": {},
   "source": [
    "## setting of placeholder"
   ]
  },
  {
   "cell_type": "code",
   "execution_count": 8,
   "metadata": {
    "collapsed": true
   },
   "outputs": [],
   "source": [
    "with g.as_default():\n",
    "    tf_X = tf.placeholder(tf.float32, shape=[None, 784], name='tf_X')\n",
    "    tf_Y = tf.placeholder(tf.int32, shape=None, name='tf_Y')\n",
    "    keep_prob = tf.placeholder(tf.float32)"
   ]
  },
  {
   "cell_type": "markdown",
   "metadata": {},
   "source": [
    "## layer1 with 256 units"
   ]
  },
  {
   "cell_type": "code",
   "execution_count": 9,
   "metadata": {
    "collapsed": true
   },
   "outputs": [],
   "source": [
    "wide1 = 256"
   ]
  },
  {
   "cell_type": "code",
   "execution_count": 10,
   "metadata": {},
   "outputs": [],
   "source": [
    "with g.as_default():\n",
    "    W1 = tf.get_variable('W1', shape=[784, wide1], initializer=xavier_initializer())\n",
    "    b1 = tf.get_variable('bias1', shape=[wide1], initializer=xavier_initializer())\n",
    "\n",
    "    layer1 = tf.nn.relu(tf.matmul(tf_X, W1) + b1)\n",
    "    layer1 = tf.nn.dropout(layer1, keep_prob=keep_prob)"
   ]
  },
  {
   "cell_type": "markdown",
   "metadata": {},
   "source": [
    "## layer2 with 256 units"
   ]
  },
  {
   "cell_type": "code",
   "execution_count": 11,
   "metadata": {
    "collapsed": true
   },
   "outputs": [],
   "source": [
    "wide2 = 256"
   ]
  },
  {
   "cell_type": "code",
   "execution_count": 12,
   "metadata": {
    "collapsed": true
   },
   "outputs": [],
   "source": [
    "with g.as_default():\n",
    "    W2 = tf.get_variable('W2', shape=[wide1, wide2], initializer=xavier_initializer())\n",
    "    b2 = tf.get_variable('bias2', shape=[wide2], initializer=xavier_initializer())\n",
    "\n",
    "    layer2 = tf.nn.relu(tf.matmul(layer1, W2) + b2)\n",
    "    layer2 = tf.nn.dropout(layer2, keep_prob=keep_prob)"
   ]
  },
  {
   "cell_type": "markdown",
   "metadata": {},
   "source": [
    "## layer3 with 10 units"
   ]
  },
  {
   "cell_type": "code",
   "execution_count": 13,
   "metadata": {
    "collapsed": true
   },
   "outputs": [],
   "source": [
    "with g.as_default():\n",
    "    W3 = tf.get_variable('W3', shape=[wide2, nb_classes], initializer=xavier_initializer())\n",
    "    b3 = tf.get_variable('b3', shape=[nb_classes], initializer=xavier_initializer())\n",
    "    logits = tf.matmul(layer2, W3) + b3"
   ]
  },
  {
   "cell_type": "markdown",
   "metadata": {},
   "source": [
    "## define cost, optimizer, and accuracy"
   ]
  },
  {
   "cell_type": "code",
   "execution_count": 14,
   "metadata": {},
   "outputs": [],
   "source": [
    "with g.as_default():\n",
    "    Y_onehot = tf.one_hot(indices=tf_Y, depth=10)\n",
    "    cost_train = tf.losses.softmax_cross_entropy(onehot_labels=Y_onehot, logits=logits)\n",
    "    cost_val = tf.losses.softmax_cross_entropy(onehot_labels=Y_onehot, logits=logits)\n",
    "    optimizer = tf.train.AdamOptimizer(learning_rate=learning_rate).minimize(cost_train)\n",
    "\n",
    "    is_correct = tf.equal(tf.argmax(logits, axis=1), tf.argmax(Y_onehot, axis=1))\n",
    "    accuracy = tf.reduce_mean(tf.cast(is_correct, tf.float32))"
   ]
  },
  {
   "cell_type": "code",
   "execution_count": 15,
   "metadata": {
    "collapsed": true
   },
   "outputs": [],
   "source": [
    "def batch_generator(x, y, batch_size):\n",
    "    X_copy = np.array(x)\n",
    "    Y_copy = np.array(y)\n",
    "    \n",
    "    for i in range(0, x.shape[0], batch_size):\n",
    "        yield (X_copy[i:i+batch_size, :], Y_copy[i:i+batch_size])    "
   ]
  },
  {
   "cell_type": "code",
   "execution_count": 26,
   "metadata": {
    "collapsed": true
   },
   "outputs": [],
   "source": [
    "training_epoch = 30\n",
    "batch_size = 100"
   ]
  },
  {
   "cell_type": "code",
   "execution_count": 27,
   "metadata": {
    "scrolled": true
   },
   "outputs": [
    {
     "name": "stdout",
     "output_type": "stream",
     "text": [
      "\n",
      "Training start. Epoch = 30\n",
      "Epoch :  1   Avg. training accuracy: 87.90    Avg. validation accuracy: 92.10\n",
      "Epoch :  2   Avg. training accuracy: 91.14    Avg. validation accuracy: 93.27\n",
      "Epoch :  3   Avg. training accuracy: 92.69    Avg. validation accuracy: 94.31\n",
      "Epoch :  4   Avg. training accuracy: 93.61    Avg. validation accuracy: 94.78\n",
      "Epoch :  5   Avg. training accuracy: 94.23    Avg. validation accuracy: 95.18\n",
      "Epoch :  6   Avg. training accuracy: 94.70    Avg. validation accuracy: 95.52\n",
      "Epoch :  7   Avg. training accuracy: 95.10    Avg. validation accuracy: 95.77\n",
      "Epoch :  8   Avg. training accuracy: 95.39    Avg. validation accuracy: 95.99\n",
      "Epoch :  9   Avg. training accuracy: 95.67    Avg. validation accuracy: 96.22\n",
      "Epoch : 10   Avg. training accuracy: 95.91    Avg. validation accuracy: 96.43\n",
      "Epoch : 11   Avg. training accuracy: 96.10    Avg. validation accuracy: 96.56\n",
      "Epoch : 12   Avg. training accuracy: 96.26    Avg. validation accuracy: 96.67\n",
      "Epoch : 13   Avg. training accuracy: 96.42    Avg. validation accuracy: 96.78\n",
      "Epoch : 14   Avg. training accuracy: 96.54    Avg. validation accuracy: 96.87\n",
      "Epoch : 15   Avg. training accuracy: 96.63    Avg. validation accuracy: 96.94\n",
      "Epoch : 16   Avg. training accuracy: 96.74    Avg. validation accuracy: 97.03\n",
      "Epoch : 17   Avg. training accuracy: 96.85    Avg. validation accuracy: 97.12\n",
      "Epoch : 18   Avg. training accuracy: 96.95    Avg. validation accuracy: 97.21\n",
      "Epoch : 19   Avg. training accuracy: 97.03    Avg. validation accuracy: 97.28\n",
      "Epoch : 20   Avg. training accuracy: 97.11    Avg. validation accuracy: 97.33\n",
      "Epoch : 21   Avg. training accuracy: 97.18    Avg. validation accuracy: 97.38\n",
      "Epoch : 22   Avg. training accuracy: 97.24    Avg. validation accuracy: 97.43\n",
      "Epoch : 23   Avg. training accuracy: 97.30    Avg. validation accuracy: 97.50\n",
      "Epoch : 24   Avg. training accuracy: 97.36    Avg. validation accuracy: 97.55\n",
      "Epoch : 25   Avg. training accuracy: 97.42    Avg. validation accuracy: 97.59\n",
      "Epoch : 26   Avg. training accuracy: 97.47    Avg. validation accuracy: 97.63\n",
      "Epoch : 27   Avg. training accuracy: 97.51    Avg. validation accuracy: 97.66\n",
      "Epoch : 28   Avg. training accuracy: 97.56    Avg. validation accuracy: 97.72\n",
      "Epoch : 29   Avg. training accuracy: 97.61    Avg. validation accuracy: 97.78\n",
      "Epoch : 30   Avg. training accuracy: 97.66    Avg. validation accuracy: 97.81\n",
      "\n",
      "Trained completed and saved model\n"
     ]
    }
   ],
   "source": [
    "with tf.Session(graph=g) as sess:\n",
    "    sess.run(tf.global_variables_initializer())\n",
    "    train_accuracies = []\n",
    "    val_accuracies = []\n",
    "    \n",
    "    print('Training start. Epoch = %2d\\n' %(training_epoch))\n",
    "    for epoch in range(training_epoch):\n",
    "        for batch_trainx, batch_trainy in batch_generator(x_train, y_train, batch_size):\n",
    "            feed = {tf_X : batch_trainx, tf_Y : batch_trainy, keep_prob:1.0}\n",
    "            train_accuracy, _ = sess.run([accuracy, optimizer], feed_dict=feed)\n",
    "            train_accuracies.append(train_accuracy)\n",
    "        for batch_valx, batch_valy in batch_generator(x_val, y_val, batch_size):\n",
    "            feed = {tf_X : batch_valx, tf_Y: batch_valy, keep_prob:1.0}\n",
    "            val_accuracy, _ = sess.run([accuracy, optimizer], feed_dict=feed)\n",
    "            val_accuracies.append(val_accuracy)\n",
    "        print('Epoch : %2d   Avg. training accuracy: %.2f    Avg. validation accuracy: %.2f' \\\n",
    "                 %(epoch + 1,100* np.mean(train_accuracies), 100* np.mean(val_accuracies)))\n",
    "    \n",
    "    # prediction\n",
    "    feed = {tf_X : X_test, keep_prob:1.0}\n",
    "    predict_DNN = sess.run(logits, feed_dict=feed)\n",
    "    predict_DNN = (tf.argmax(predict_DNN, axis=1)).eval()\n",
    "    \n",
    "    # save the model\n",
    "    saver = tf.train.Saver()\n",
    "    saver.save(sess, './trained-model_DNN')\n",
    "    \n",
    "    print('\\nTrained completed and saved model')"
   ]
  },
  {
   "cell_type": "code",
   "execution_count": 28,
   "metadata": {},
   "outputs": [],
   "source": [
    "ImageId = np.arange(1, len(predict_DNN)+1)\n",
    "submission = pd.DataFrame({'ImageId': ImageId,\n",
    "                          'Label':predict_DNN})\n",
    "submission.to_csv('submission_DNN.csv', index=False)"
   ]
  }
 ],
 "metadata": {
  "kernelspec": {
   "display_name": "Python 3",
   "language": "python",
   "name": "python3"
  },
  "language_info": {
   "codemirror_mode": {
    "name": "ipython",
    "version": 3
   },
   "file_extension": ".py",
   "mimetype": "text/x-python",
   "name": "python",
   "nbconvert_exporter": "python",
   "pygments_lexer": "ipython3",
   "version": "3.6.1"
  }
 },
 "nbformat": 4,
 "nbformat_minor": 2
}
